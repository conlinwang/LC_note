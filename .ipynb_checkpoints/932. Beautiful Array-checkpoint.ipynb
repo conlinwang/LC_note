{
 "cells": [
  {
   "cell_type": "markdown",
   "metadata": {},
   "source": [
    "# 932. Beautiful Array"
   ]
  },
  {
   "cell_type": "markdown",
   "metadata": {},
   "source": [
    "For some fixed N, an array A is beautiful if it is a permutation of the integers 1, 2, ..., N, such that:\n",
    "\n",
    "For every i < j, there is no k with i < k < j such that A[k] * 2 = A[i] + A[j].\n",
    "\n",
    "Given N, return any beautiful array A.  (It is guaranteed that one exists.)"
   ]
  },
  {
   "cell_type": "markdown",
   "metadata": {},
   "source": [
    "__Example 1:__"
   ]
  },
  {
   "cell_type": "code",
   "execution_count": null,
   "metadata": {
    "collapsed": true
   },
   "outputs": [],
   "source": [
    "Input: 4\n",
    "Output: [2,1,4,3]"
   ]
  },
  {
   "cell_type": "markdown",
   "metadata": {},
   "source": [
    "__Example 2:__"
   ]
  },
  {
   "cell_type": "code",
   "execution_count": 17,
   "metadata": {
    "collapsed": false
   },
   "outputs": [],
   "source": [
    "class Solution(object):\n",
    "    def beautifulArray(self, N):\n",
    "        \"\"\"\n",
    "        :type N: int\n",
    "        :rtype: List[int]\n",
    "        \"\"\"\n",
    "        res = [1]\n",
    "        while len(res)<N:\n",
    "            res = [i*2-1 for i in res] + [i*2 for i in res]\n",
    "        return [i for i in res if i <= N]"
   ]
  },
  {
   "cell_type": "code",
   "execution_count": 18,
   "metadata": {
    "collapsed": true
   },
   "outputs": [],
   "source": [
    "N = 4"
   ]
  },
  {
   "cell_type": "code",
   "execution_count": 19,
   "metadata": {
    "collapsed": false
   },
   "outputs": [],
   "source": [
    "my_sol = Solution()"
   ]
  },
  {
   "cell_type": "code",
   "execution_count": 20,
   "metadata": {
    "collapsed": false
   },
   "outputs": [
    {
     "data": {
      "text/plain": [
       "[1, 3, 2, 4]"
      ]
     },
     "execution_count": 20,
     "metadata": {},
     "output_type": "execute_result"
    }
   ],
   "source": [
    "my_sol.beautifulArray(N)"
   ]
  },
  {
   "cell_type": "code",
   "execution_count": 21,
   "metadata": {
    "collapsed": false
   },
   "outputs": [
    {
     "name": "stdout",
     "output_type": "stream",
     "text": [
      "[]\n",
      "[1]\n",
      "[1, 2]\n",
      "[1, 3, 2]\n",
      "[1, 3, 2, 4]\n",
      "[1, 5, 3, 2, 4]\n",
      "[1, 5, 3, 2, 6, 4]\n",
      "[1, 5, 3, 7, 2, 6, 4]\n",
      "[1, 5, 3, 7, 2, 6, 4, 8]\n",
      "[1, 9, 5, 3, 7, 2, 6, 4, 8]\n",
      "[1, 9, 5, 3, 7, 2, 10, 6, 4, 8]\n",
      "[1, 9, 5, 3, 11, 7, 2, 10, 6, 4, 8]\n",
      "[1, 9, 5, 3, 11, 7, 2, 10, 6, 4, 12, 8]\n",
      "[1, 9, 5, 13, 3, 11, 7, 2, 10, 6, 4, 12, 8]\n",
      "[1, 9, 5, 13, 3, 11, 7, 2, 10, 6, 14, 4, 12, 8]\n",
      "[1, 9, 5, 13, 3, 11, 7, 15, 2, 10, 6, 14, 4, 12, 8]\n",
      "[1, 9, 5, 13, 3, 11, 7, 15, 2, 10, 6, 14, 4, 12, 8, 16]\n",
      "[1, 17, 9, 5, 13, 3, 11, 7, 15, 2, 10, 6, 14, 4, 12, 8, 16]\n",
      "[1, 17, 9, 5, 13, 3, 11, 7, 15, 2, 18, 10, 6, 14, 4, 12, 8, 16]\n",
      "[1, 17, 9, 5, 13, 3, 19, 11, 7, 15, 2, 18, 10, 6, 14, 4, 12, 8, 16]\n"
     ]
    }
   ],
   "source": [
    "for i in range(20):\n",
    "    print my_sol.beautifulArray(i)"
   ]
  },
  {
   "cell_type": "code",
   "execution_count": null,
   "metadata": {
    "collapsed": true
   },
   "outputs": [],
   "source": []
  }
 ],
 "metadata": {
  "kernelspec": {
   "display_name": "Python 2",
   "language": "python",
   "name": "python2"
  },
  "language_info": {
   "codemirror_mode": {
    "name": "ipython",
    "version": 2
   },
   "file_extension": ".py",
   "mimetype": "text/x-python",
   "name": "python",
   "nbconvert_exporter": "python",
   "pygments_lexer": "ipython2",
   "version": "2.7.13"
  }
 },
 "nbformat": 4,
 "nbformat_minor": 2
}
