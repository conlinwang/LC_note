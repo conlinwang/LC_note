{
 "cells": [
  {
   "cell_type": "code",
   "execution_count": 1,
   "metadata": {
    "collapsed": true
   },
   "outputs": [],
   "source": [
    "class Solution(object):\n",
    "    def movesToStamp(self, stamp, target):\n",
    "        \"\"\"\n",
    "        :type stamp: str\n",
    "        :type target: str\n",
    "        :rtype: List[int]\n",
    "        \"\"\"\n",
    "        stamp = list(stamp)\n",
    "        target = list(target)\n",
    "        len_stamp = len(stamp)\n",
    "        len_target = len(target)\n",
    "        \n",
    "        res = []\n",
    "        left = len_target\n",
    "        flag = True\n",
    "        while flag:\n",
    "            flag = False\n",
    "            for i in range(len_target - len_stamp + 1):\n",
    "                if not left:\n",
    "                    break\n",
    "                    \n",
    "                if target[i:i+len_stamp] == [\"*\"]*len_stamp:\n",
    "                    continue\n",
    "                    \n",
    "                cnt = 0\n",
    "                for j in range(len_stamp):\n",
    "                    if target[i+j] == stamp[j] or target[i+j] ==\"*\":\n",
    "                        cnt += 1\n",
    "                if cnt==len_stamp:\n",
    "                    flag = True\n",
    "                    res.append(i)\n",
    "                    for j in range(len_stamp):\n",
    "                        if target[i+j] != \"*\":\n",
    "                            left -= 1\n",
    "                            target[i+j] = \"*\"\n",
    "                            \n",
    "        if left:\n",
    "            return []\n",
    "        else:\n",
    "            return res[::-1]\n",
    "            "
   ]
  },
  {
   "cell_type": "code",
   "execution_count": 2,
   "metadata": {
    "collapsed": true
   },
   "outputs": [],
   "source": [
    "stamp = \"abc\"\n",
    "target = \"ababc\"\n",
    "my_sol = Solution()"
   ]
  },
  {
   "cell_type": "code",
   "execution_count": 3,
   "metadata": {
    "collapsed": false
   },
   "outputs": [
    {
     "data": {
      "text/plain": [
       "[0, 2]"
      ]
     },
     "execution_count": 3,
     "metadata": {},
     "output_type": "execute_result"
    }
   ],
   "source": [
    "my_sol.movesToStamp(stamp, target)"
   ]
  },
  {
   "cell_type": "code",
   "execution_count": 4,
   "metadata": {
    "collapsed": true
   },
   "outputs": [],
   "source": [
    "stamp = \"abca\"\n",
    "target = \"aabcaca\""
   ]
  },
  {
   "cell_type": "code",
   "execution_count": 5,
   "metadata": {
    "collapsed": false
   },
   "outputs": [
    {
     "data": {
      "text/plain": [
       "[0, 3, 1]"
      ]
     },
     "execution_count": 5,
     "metadata": {},
     "output_type": "execute_result"
    }
   ],
   "source": [
    "my_sol.movesToStamp(stamp, target)"
   ]
  },
  {
   "cell_type": "code",
   "execution_count": null,
   "metadata": {
    "collapsed": true
   },
   "outputs": [],
   "source": []
  }
 ],
 "metadata": {
  "kernelspec": {
   "display_name": "Python 2",
   "language": "python",
   "name": "python2"
  },
  "language_info": {
   "codemirror_mode": {
    "name": "ipython",
    "version": 2
   },
   "file_extension": ".py",
   "mimetype": "text/x-python",
   "name": "python",
   "nbconvert_exporter": "python",
   "pygments_lexer": "ipython2",
   "version": "2.7.13"
  }
 },
 "nbformat": 4,
 "nbformat_minor": 2
}
