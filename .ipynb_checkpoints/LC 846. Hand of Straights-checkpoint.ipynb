{
 "cells": [
  {
   "cell_type": "markdown",
   "metadata": {},
   "source": [
    "# 846. Hand of Straights"
   ]
  },
  {
   "cell_type": "code",
   "execution_count": null,
   "metadata": {
    "collapsed": true
   },
   "outputs": [],
   "source": [
    "Alice has a hand of cards, given as an array of integers.\n",
    "\n",
    "Now she wants to rearrange the cards into groups so that each group is size W, and consists of W consecutive cards.\n",
    "\n",
    "Return true if and only if she can."
   ]
  },
  {
   "cell_type": "markdown",
   "metadata": {},
   "source": [
    "__Example 1:__"
   ]
  },
  {
   "cell_type": "code",
   "execution_count": null,
   "metadata": {
    "collapsed": false
   },
   "outputs": [],
   "source": [
    "Input: hand = [1,2,3,6,2,3,4,7,8], W = 3\n",
    "Output: true\n",
    "Explanation: Alice's hand can be rearranged as [1,2,3],[2,3,4],[6,7,8]."
   ]
  },
  {
   "cell_type": "markdown",
   "metadata": {},
   "source": [
    "__Example 2:__"
   ]
  },
  {
   "cell_type": "code",
   "execution_count": null,
   "metadata": {
    "collapsed": true
   },
   "outputs": [],
   "source": [
    "Input: hand = [1,2,3,4,5], W = 4\n",
    "Output: false\n",
    "Explanation: Alice's hand can't be rearranged into groups of 4."
   ]
  },
  {
   "cell_type": "markdown",
   "metadata": {},
   "source": [
    "__Note:__\n",
    "\n",
    "1 <= hand.length <= 10000\n",
    "\n",
    "0 <= hand[i] <= 10^9\n",
    "\n",
    "1 <= W <= hand.length"
   ]
  },
  {
   "cell_type": "code",
   "execution_count": 2,
   "metadata": {
    "collapsed": true
   },
   "outputs": [],
   "source": [
    "import collections\n",
    "class Solution(object):\n",
    "    def isNStraightHand(self, hand, W):\n",
    "        count = collections.Counter(hand)\n",
    "        while count:\n",
    "            m = min(count)\n",
    "            for k in xrange(m, m+W):\n",
    "                v = count[k]\n",
    "                if not v: return False\n",
    "                if v == 1:\n",
    "                    del count[k]\n",
    "                else:\n",
    "                    count[k] = v - 1\n",
    "\n",
    "        return True"
   ]
  },
  {
   "cell_type": "code",
   "execution_count": null,
   "metadata": {
    "collapsed": true
   },
   "outputs": [],
   "source": []
  }
 ],
 "metadata": {
  "kernelspec": {
   "display_name": "Python 2",
   "language": "python",
   "name": "python2"
  },
  "language_info": {
   "codemirror_mode": {
    "name": "ipython",
    "version": 2
   },
   "file_extension": ".py",
   "mimetype": "text/x-python",
   "name": "python",
   "nbconvert_exporter": "python",
   "pygments_lexer": "ipython2",
   "version": "2.7.13"
  }
 },
 "nbformat": 4,
 "nbformat_minor": 2
}
