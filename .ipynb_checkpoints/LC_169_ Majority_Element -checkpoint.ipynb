{
 "cells": [
  {
   "cell_type": "code",
   "execution_count": 6,
   "metadata": {
    "collapsed": false
   },
   "outputs": [
    {
     "name": "stdout",
     "output_type": "stream",
     "text": [
      "1\n",
      "-1\n"
     ]
    }
   ],
   "source": [
    "class Solution:\n",
    "    # @param num, a list of integers\n",
    "    # @return an integer\n",
    "    def majorityElement(self, num):\n",
    "        candidate, count = None, 0\n",
    "        for e in num:\n",
    "            if count == 0:\n",
    "                candidate, count = e, 1\n",
    "            elif e == candidate:\n",
    "                count += 1\n",
    "            else:\n",
    "                count -= 1\n",
    "        return candidate\n",
    "my_Solution = Solution()\n",
    "print my_Solution.majorityElement([1])\n",
    "print my_Solution.majorityElement([-1, 2, 3, -1, -1, 3])"
   ]
  },
  {
   "cell_type": "code",
   "execution_count": 7,
   "metadata": {
    "collapsed": true
   },
   "outputs": [],
   "source": [
    "#240. Search a 2D Matrix II\n",
    "class Solution:\n",
    "    # @param {integer[][]} matrix\n",
    "    # @param {integer} target\n",
    "    # @return {boolean}\n",
    "    def searchMatrix(self, matrix, target):\n",
    "        y = len(matrix[0]) - 1\n",
    "        def binSearch(nums, low, high):\n",
    "            while low <= high:\n",
    "                mid = (low + high) / 2\n",
    "                if nums[mid] > target:\n",
    "                    high = mid - 1\n",
    "                else:\n",
    "                    low = mid + 1\n",
    "            return high\n",
    "        for x in range(len(matrix)):\n",
    "            y = binSearch(matrix[x], 0, y)\n",
    "            if matrix[x][y] == target:\n",
    "                return True\n",
    "        return False"
   ]
  },
  {
   "cell_type": "code",
   "execution_count": null,
   "metadata": {
    "collapsed": true
   },
   "outputs": [],
   "source": [
    "# 215. Kth Largest Element in an Array\n",
    "import random\n",
    "class Solution:\n",
    "    # @param {integer[]} nums\n",
    "    # @param {integer} k\n",
    "    # @return {integer}\n",
    "    def findKthLargest(self, nums, k):\n",
    "        pivot = random.choice(nums)\n",
    "        nums1, nums2 = [], []\n",
    "        for num in nums:\n",
    "            if num > pivot:\n",
    "                nums1.append(num)\n",
    "            elif num < pivot:\n",
    "                nums2.append(num)\n",
    "        if k <= len(nums1):\n",
    "            return self.findKthLargest(nums1, k)\n",
    "        if k > len(nums) - len(nums2):\n",
    "            return self.findKthLargest(nums2, k - (len(nums) - len(nums2)))\n",
    "        return pivot"
   ]
  }
 ],
 "metadata": {
  "kernelspec": {
   "display_name": "Python 2",
   "language": "python",
   "name": "python2"
  },
  "language_info": {
   "codemirror_mode": {
    "name": "ipython",
    "version": 2
   },
   "file_extension": ".py",
   "mimetype": "text/x-python",
   "name": "python",
   "nbconvert_exporter": "python",
   "pygments_lexer": "ipython2",
   "version": "2.7.13"
  }
 },
 "nbformat": 4,
 "nbformat_minor": 2
}
