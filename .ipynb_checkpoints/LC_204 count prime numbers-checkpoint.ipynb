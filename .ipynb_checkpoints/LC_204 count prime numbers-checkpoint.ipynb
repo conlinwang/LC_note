{
 "cells": [
  {
   "cell_type": "markdown",
   "metadata": {},
   "source": [
    "## Leetcode 204\n",
    "### Description:\n",
    "\n",
    "Count the number of prime numbers less than a non-negative number, n."
   ]
  },
  {
   "cell_type": "markdown",
   "metadata": {},
   "source": [
    "https://unnamed42.github.io/2015-12-03-Leetcode-204-Count-Primes.html"
   ]
  },
  {
   "cell_type": "markdown",
   "metadata": {},
   "source": [
    "### Python !!"
   ]
  },
  {
   "cell_type": "code",
   "execution_count": 1,
   "metadata": {
    "collapsed": true
   },
   "outputs": [],
   "source": [
    "class Solution:\n",
    "\tdef countPrimes(self, n):\n",
    "\t\tif n < 3:\n",
    "\t\t\treturn 0\n",
    "\t\tprimes = [True] * n\n",
    "\t\tprimes[0] = primes[1] = False\n",
    "\t\tfor i in range(2, int(n ** 0.5) + 1):\n",
    "\t\t\tif primes[i]:\n",
    "\t\t\t\tprimes[i * i: n: i] = [False] * len(primes[i * i: n: i])\n",
    "\t\treturn sum(primes)"
   ]
  },
  {
   "cell_type": "code",
   "execution_count": 4,
   "metadata": {
    "collapsed": false
   },
   "outputs": [
    {
     "name": "stdout",
     "output_type": "stream",
     "text": [
      "4\n",
      "78498\n"
     ]
    }
   ],
   "source": [
    "my_Solution = Solution()\n",
    "print my_Solution.countPrimes(10)\n",
    "print my_Solution.countPrimes(1000000)"
   ]
  },
  {
   "cell_type": "code",
   "execution_count": 3,
   "metadata": {
    "collapsed": false
   },
   "outputs": [
    {
     "name": "stdout",
     "output_type": "stream",
     "text": [
      "[1, 3, 5, 7, 9]\n"
     ]
    }
   ],
   "source": [
    "array = [1, 2, 3, 4, 5, 6, 7, 8, 9, 10]\n",
    "print array[0 : 10 : 2]"
   ]
  },
  {
   "cell_type": "code",
   "execution_count": null,
   "metadata": {
    "collapsed": true
   },
   "outputs": [],
   "source": []
  }
 ],
 "metadata": {
  "kernelspec": {
   "display_name": "Python 2",
   "language": "python",
   "name": "python2"
  },
  "language_info": {
   "codemirror_mode": {
    "name": "ipython",
    "version": 2
   },
   "file_extension": ".py",
   "mimetype": "text/x-python",
   "name": "python",
   "nbconvert_exporter": "python",
   "pygments_lexer": "ipython2",
   "version": "2.7.13"
  }
 },
 "nbformat": 4,
 "nbformat_minor": 2
}
