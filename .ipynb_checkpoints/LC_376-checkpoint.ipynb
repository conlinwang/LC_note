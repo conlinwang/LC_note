{
 "cells": [
  {
   "cell_type": "code",
   "execution_count": 1,
   "metadata": {
    "collapsed": false
   },
   "outputs": [
    {
     "name": "stdout",
     "output_type": "stream",
     "text": [
      "[1, 7, 4, 9, 2, 5]\n",
      "6\n",
      "[1, 17, 5, 15, 5, 16, 8]\n",
      "7\n",
      "[1, 9]\n",
      "2\n"
     ]
    }
   ],
   "source": [
    "class Solution(object):\n",
    "    def wiggleMaxLength(self, nums):\n",
    "        \"\"\"\n",
    "        :type nums: List[int]\n",
    "        :rtype: int\n",
    "        \"\"\"\n",
    "        if not nums: \n",
    "        \treturn 0\n",
    "        else:\n",
    "\t        dp = [nums[0]]\n",
    "\t        state_pre = nums[1] - nums[0]\n",
    "\t        for i in range(2,len(nums)):\n",
    "\t        \tstate = nums[i] -nums[i-1]\n",
    "\t        \tif(state * state_pre < 0):\n",
    "\t        \t\tdp.append(nums[i-1])\n",
    "\t        \tstate_pre = state\n",
    "\t        dp.append(nums[len(nums)-1])\n",
    "\t        print dp\n",
    "\t        return len(dp)\n",
    "\n",
    "my_Solution = Solution()\n",
    "print my_Solution.wiggleMaxLength([1,7,4,9,2,5])\n",
    "print my_Solution.wiggleMaxLength([1,17,5,10,13,15,10,5,16,8])\n",
    "print my_Solution.wiggleMaxLength([1,2,3,4,5,6,7,8,9])"
   ]
  },
  {
   "cell_type": "code",
   "execution_count": null,
   "metadata": {
    "collapsed": true
   },
   "outputs": [],
   "source": []
  }
 ],
 "metadata": {
  "kernelspec": {
   "display_name": "Python 2",
   "language": "python",
   "name": "python2"
  },
  "language_info": {
   "codemirror_mode": {
    "name": "ipython",
    "version": 2
   },
   "file_extension": ".py",
   "mimetype": "text/x-python",
   "name": "python",
   "nbconvert_exporter": "python",
   "pygments_lexer": "ipython2",
   "version": "2.7.13"
  }
 },
 "nbformat": 4,
 "nbformat_minor": 2
}
