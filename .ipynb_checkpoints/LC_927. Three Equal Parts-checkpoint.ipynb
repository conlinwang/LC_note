{
 "cells": [
  {
   "cell_type": "markdown",
   "metadata": {},
   "source": [
    "# 927. Three Equal Parts"
   ]
  },
  {
   "cell_type": "markdown",
   "metadata": {},
   "source": [
    "Given an array A of 0s and 1s, divide the array into 3 non-empty parts such that all of these parts represent the same binary value.\n",
    "\n",
    "If it is possible, return any [i, j] with i+1 < j, such that:\n",
    "\n",
    "A[0], A[1], ..., A[i] is the first part;\n",
    "A[i+1], A[i+2], ..., A[j-1] is the second part, and\n",
    "A[j], A[j+1], ..., A[A.length - 1] is the third part.\n",
    "All three parts have equal binary value.\n",
    "If it is not possible, return [-1, -1].\n",
    "\n",
    "Note that the entire part is used when considering what binary value it represents.  For example, [1,1,0] represents 6 in decimal, not 3.  Also, leading zeros are allowed, so [0,1,1] and [1,1] represent the same value."
   ]
  },
  {
   "cell_type": "code",
   "execution_count": null,
   "metadata": {
    "collapsed": true
   },
   "outputs": [],
   "source": [
    "Example 1:\n",
    "\n",
    "Input: [1,0,1,0,1]\n",
    "Output: [0,3]\n"
   ]
  },
  {
   "cell_type": "code",
   "execution_count": null,
   "metadata": {
    "collapsed": true
   },
   "outputs": [],
   "source": [
    "Example 2:\n",
    "\n",
    "Input: [1,1,0,1,1]\n",
    "Output: [-1,-1]"
   ]
  },
  {
   "cell_type": "markdown",
   "metadata": {},
   "source": [
    "__Note:__\n",
    "\n",
    "3 <= A.length <= 30000\n",
    "\n",
    "A[i] == 0 or A[i] == 1"
   ]
  },
  {
   "cell_type": "code",
   "execution_count": 13,
   "metadata": {
    "collapsed": true
   },
   "outputs": [],
   "source": [
    "class Solution(object):\n",
    "    def threeEqualParts(self, A):\n",
    "        \"\"\"\n",
    "        :type A: List[int]\n",
    "        :rtype: List[int]\n",
    "        \"\"\"\n",
    "        def list_to_binary(list_):\n",
    "            return int(''.join(map(str,list_)),2)\n",
    "        \n",
    "        s = sum(A)\n",
    "        if s%3: # if sum cannot mod by 3\n",
    "            return [-1,-1]\n",
    "        cnt = s/3\n",
    "        if not cnt: # if cnt is zero return the whole range\n",
    "            return [0,len(A)-1]\n",
    "        \n",
    "        back_re = -1 #count the last zeros in the right most\n",
    "        while A[back_re] != 1:\n",
    "            back_re -= 1\n",
    "        back_re = -back_re-1\n",
    "        \n",
    "        # find the break points of 1's when they are in their shares\n",
    "        count = 0\n",
    "        get_i, get_j = 0, 0\n",
    "        for idx in range(len(A)):\n",
    "            count += A[idx]\n",
    "            if count == cnt and not get_i:\n",
    "                i = idx + back_re # add the zeros in the right most\n",
    "                get_i = 1\n",
    "            elif count == 2*cnt and not get_j:\n",
    "                j = idx+1 + back_re # add the zeros in the right most\n",
    "                get_j = 1\n",
    "        # test if the three parts are the same in decimal expression\n",
    "        if list_to_binary(A[:i+1]) == list_to_binary(A[i+1:j]) == list_to_binary(A[j:]):\n",
    "            return [i, j]\n",
    "        else:\n",
    "            return [-1, -1]"
   ]
  },
  {
   "cell_type": "code",
   "execution_count": 14,
   "metadata": {
    "collapsed": false
   },
   "outputs": [],
   "source": [
    "A = [1,0,1,0,1]\n",
    "my_sol = Solution()\n"
   ]
  },
  {
   "cell_type": "code",
   "execution_count": 15,
   "metadata": {
    "collapsed": false
   },
   "outputs": [
    {
     "name": "stdout",
     "output_type": "stream",
     "text": [
      "[0, 3]\n"
     ]
    }
   ],
   "source": [
    "print my_sol.threeEqualParts(A)"
   ]
  },
  {
   "cell_type": "code",
   "execution_count": 16,
   "metadata": {
    "collapsed": false
   },
   "outputs": [
    {
     "name": "stdout",
     "output_type": "stream",
     "text": [
      "[-1, -1]\n"
     ]
    }
   ],
   "source": [
    "A = [1,0,1,1,0]\n",
    "print my_sol.threeEqualParts(A)"
   ]
  },
  {
   "cell_type": "code",
   "execution_count": null,
   "metadata": {
    "collapsed": true
   },
   "outputs": [],
   "source": []
  }
 ],
 "metadata": {
  "kernelspec": {
   "display_name": "Python 2",
   "language": "python",
   "name": "python2"
  },
  "language_info": {
   "codemirror_mode": {
    "name": "ipython",
    "version": 2
   },
   "file_extension": ".py",
   "mimetype": "text/x-python",
   "name": "python",
   "nbconvert_exporter": "python",
   "pygments_lexer": "ipython2",
   "version": "2.7.13"
  }
 },
 "nbformat": 4,
 "nbformat_minor": 2
}
