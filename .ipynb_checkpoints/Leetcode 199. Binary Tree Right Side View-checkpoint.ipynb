{
 "cells": [
  {
   "cell_type": "markdown",
   "metadata": {},
   "source": [
    "## 199. Binary Tree Right Side View"
   ]
  },
  {
   "cell_type": "markdown",
   "metadata": {},
   "source": [
    "Link:\n",
    "https://leetcode.com/problems/binary-tree-right-side-view/"
   ]
  },
  {
   "cell_type": "markdown",
   "metadata": {},
   "source": [
    "__Question:__\n",
    "Given a binary tree, imagine yourself standing on the right side of it, return the values of the nodes you can see ordered from top to bottom.\n"
   ]
  },
  {
   "cell_type": "markdown",
   "metadata": {},
   "source": [
    "__**Method 1: BFS**__\n",
    "\n",
    "Append the last node of each level to result."
   ]
  },
  {
   "cell_type": "markdown",
   "metadata": {},
   "source": [
    "### Python:\n"
   ]
  },
  {
   "cell_type": "code",
   "execution_count": 5,
   "metadata": {
    "collapsed": true
   },
   "outputs": [],
   "source": [
    "# Definition for a binary tree node.\n",
    "# class TreeNode(object):\n",
    "#     def __init__(self, x):\n",
    "#         self.val = x\n",
    "#         self.left = None\n",
    "#         self.right = None\n",
    "\n",
    "class Solution(object):\n",
    "    def rightSideView(self, root):\n",
    "        \"\"\"\n",
    "        :type root: TreeNode\n",
    "        :rtype: List[int]\n",
    "        \"\"\"\n",
    "        if not root:\n",
    "        \treturn [ ]\n",
    "        ans = [ ]\n",
    "        queue = [ ]\n",
    "        queue.append(root)\n",
    "\n",
    "        while queue:\n",
    "            level = [ ]\n",
    "            for i in xrange(len(queue)):\n",
    "                node = queue.pop(0)\n",
    "                level.append(node.val)\n",
    "                if node.right:\n",
    "                    queue.append(node.right)\n",
    "                if node.left:\n",
    "                    queue.append(node.left)\n",
    "            ans.append(level[0])\n",
    "        return ans\n"
   ]
  },
  {
   "cell_type": "markdown",
   "metadata": {},
   "source": [
    "Complexity:\n",
    "\n",
    "__O(n) time__, 38msec, 81.64%\n",
    "\n",
    "*O(n) space*"
   ]
  },
  {
   "cell_type": "markdown",
   "metadata": {},
   "source": [
    "__Method 2: DFS__\n",
    "\n",
    "Use recursion to find rightmost node.\n"
   ]
  },
  {
   "cell_type": "code",
   "execution_count": 3,
   "metadata": {
    "collapsed": false
   },
   "outputs": [],
   "source": [
    "# Definition for a binary tree node.\n",
    "# class TreeNode(object):\n",
    "#     def __init__(self, x):\n",
    "#         self.val = x\n",
    "#         self.left = None\n",
    "#         self.right = None\n",
    "\n",
    "class Solution(object):\n",
    "    def rightSideView(self, root):\n",
    "        \"\"\"\n",
    "        :type root: TreeNode\n",
    "        :rtype: List[int]\n",
    "        \"\"\"\n",
    "        if not root:\n",
    "        \treturn [ ]\n",
    "        def R_DFS(node, depth):\n",
    "            if node:\n",
    "                if depth == len(ans):\n",
    "                    ans.append(node.val)\n",
    "                R_DFS(node.right, depth+1)\n",
    "                R_DFS(node.left, depth+1)\n",
    "\n",
    "        ans = [ ]\n",
    "        R_DFS(root, 0)\n",
    "        return ans"
   ]
  },
  {
   "cell_type": "markdown",
   "metadata": {},
   "source": [
    "Complexity:\n",
    "\n",
    "__O(n) time__, 35 msec, 92.80%\n",
    "\n",
    "*__O(logn) space__"
   ]
  },
  {
   "cell_type": "code",
   "execution_count": null,
   "metadata": {
    "collapsed": true
   },
   "outputs": [],
   "source": []
  }
 ],
 "metadata": {
  "kernelspec": {
   "display_name": "Python 2",
   "language": "python",
   "name": "python2"
  },
  "language_info": {
   "codemirror_mode": {
    "name": "ipython",
    "version": 2
   },
   "file_extension": ".py",
   "mimetype": "text/x-python",
   "name": "python",
   "nbconvert_exporter": "python",
   "pygments_lexer": "ipython2",
   "version": "2.7.13"
  }
 },
 "nbformat": 4,
 "nbformat_minor": 2
}
