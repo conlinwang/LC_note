{
 "cells": [
  {
   "cell_type": "markdown",
   "metadata": {},
   "source": [
    "## 397. Integer Replacement"
   ]
  },
  {
   "cell_type": "code",
   "execution_count": null,
   "metadata": {
    "collapsed": true
   },
   "outputs": [],
   "source": [
    "Given a positive integer n and you can do operations as follow:\n",
    "\n",
    "If n is even, replace n with n/2.\n",
    "If n is odd, you can replace n with either n + 1 or n - 1.\n",
    "What is the minimum number of replacements needed for n to become 1?"
   ]
  },
  {
   "cell_type": "markdown",
   "metadata": {},
   "source": [
    "### Example 1:"
   ]
  },
  {
   "cell_type": "code",
   "execution_count": null,
   "metadata": {
    "collapsed": true
   },
   "outputs": [],
   "source": [
    "Input:\n",
    "8\n",
    "\n",
    "Output:\n",
    "3\n",
    "\n",
    "Explanation:\n",
    "8 -> 4 -> 2 -> 1"
   ]
  },
  {
   "cell_type": "markdown",
   "metadata": {},
   "source": [
    "### Example 2:"
   ]
  },
  {
   "cell_type": "code",
   "execution_count": null,
   "metadata": {
    "collapsed": true
   },
   "outputs": [],
   "source": [
    "Input:\n",
    "7\n",
    "\n",
    "Output:\n",
    "4\n",
    "\n",
    "Explanation:\n",
    "7 -> 8 -> 4 -> 2 -> 1\n",
    "or\n",
    "7 -> 6 -> 3 -> 2 -> 1"
   ]
  },
  {
   "cell_type": "code",
   "execution_count": 1,
   "metadata": {
    "collapsed": true
   },
   "outputs": [],
   "source": [
    "class Solution(object):\n",
    "    def integerReplacement(self, n):\n",
    "        \"\"\"\n",
    "        :type n: int\n",
    "        :rtype: int\n",
    "        \"\"\"\n",
    "        sol = 0\n",
    "        if (n == 1):\n",
    "            return 0\n",
    "        else:\n",
    "            if (n % 2 == 0):\n",
    "                sol = self.integerReplacement(n/2) + 1\n",
    "            else:\n",
    "                sol = min(self.integerReplacement(n+1), self.integerReplacement(n-1) ) +1\n",
    "            return sol\n",
    "# 9.13% 408ms        "
   ]
  },
  {
   "cell_type": "code",
   "execution_count": 2,
   "metadata": {
    "collapsed": true
   },
   "outputs": [],
   "source": [
    "class Solution(object):\n",
    "    def integerReplacement(self, n):\n",
    "        \"\"\"\n",
    "        :type n: int\n",
    "        :rtype: int\n",
    "        \"\"\"\n",
    "        sol = 0\n",
    "        if (n == 1):\n",
    "            return 0\n",
    "        if (n == 3):\n",
    "            return 2\n",
    "        else:\n",
    "            if (n % 2 == 0):\n",
    "                sol = self.integerReplacement(n/2) + 1\n",
    "            else:\n",
    "                if (n % 4 == 1):\n",
    "                    sol = self.integerReplacement( n - 1 ) + 1\n",
    "                else:\n",
    "                    sol = self.integerReplacement( n + 1 ) + 1\n",
    "            return sol\n",
    "# 32.94% 62ms                "
   ]
  },
  {
   "cell_type": "code",
   "execution_count": 3,
   "metadata": {
    "collapsed": true
   },
   "outputs": [],
   "source": [
    "class Solution(object):\n",
    "    def integerReplacement(self, n):\n",
    "        \"\"\"\n",
    "        :type n: int\n",
    "        :rtype: int\n",
    "        \"\"\"\n",
    "        count = 0 \n",
    "        while (n != 1):\n",
    "            if ((n & 1) == 0):\n",
    "                n >>= 1\n",
    "            elif (n == 3 or ((n >> 1) & 1) == 0):\n",
    "                n -= 1\n",
    "            else:\n",
    "                n += 1\n",
    "            count +=1\n",
    "        return count\n",
    "# 66.67% 35ms    "
   ]
  },
  {
   "cell_type": "code",
   "execution_count": null,
   "metadata": {
    "collapsed": true
   },
   "outputs": [],
   "source": []
  }
 ],
 "metadata": {
  "kernelspec": {
   "display_name": "Python 2",
   "language": "python",
   "name": "python2"
  },
  "language_info": {
   "codemirror_mode": {
    "name": "ipython",
    "version": 2
   },
   "file_extension": ".py",
   "mimetype": "text/x-python",
   "name": "python",
   "nbconvert_exporter": "python",
   "pygments_lexer": "ipython2",
   "version": "2.7.13"
  }
 },
 "nbformat": 4,
 "nbformat_minor": 2
}
