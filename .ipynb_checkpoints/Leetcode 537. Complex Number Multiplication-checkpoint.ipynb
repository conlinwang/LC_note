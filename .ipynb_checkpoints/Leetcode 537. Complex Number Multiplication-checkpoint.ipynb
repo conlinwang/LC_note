{
 "cells": [
  {
   "cell_type": "markdown",
   "metadata": {},
   "source": [
    "## 537. Complex Number Multiplication\n"
   ]
  },
  {
   "cell_type": "markdown",
   "metadata": {},
   "source": [
    "Given two strings representing two complex numbers.\n",
    "\n",
    "You need to return a string representing their multiplication. Note i^2 = -1 according to the definition."
   ]
  },
  {
   "cell_type": "markdown",
   "metadata": {},
   "source": [
    "__Example 1:__"
   ]
  },
  {
   "cell_type": "code",
   "execution_count": null,
   "metadata": {
    "collapsed": true
   },
   "outputs": [],
   "source": [
    "Input: \"1+1i\", \"1+1i\"\n",
    "Output: \"0+2i\"\n",
    "Explanation: (1 + i) * (1 + i) = 1 + i2 + 2 * i = 2i, and you need convert it to the form of 0+2i."
   ]
  },
  {
   "cell_type": "markdown",
   "metadata": {},
   "source": [
    "__Example 2:__"
   ]
  },
  {
   "cell_type": "code",
   "execution_count": null,
   "metadata": {
    "collapsed": true
   },
   "outputs": [],
   "source": [
    "Input: \"1+-1i\", \"1+-1i\"\n",
    "Output: \"0+-2i\"\n",
    "Explanation: (1 - i) * (1 - i) = 1 + i2 - 2 * i = -2i, and you need convert it to the form of 0+-2i."
   ]
  },
  {
   "cell_type": "markdown",
   "metadata": {},
   "source": [
    "__Note:__\n",
    "\n",
    "1. The input strings will not have extra blank.\n",
    "\n",
    "2. The input strings will be given in the form of a+bi, where the integer a and b will both belong to the range of [-100, 100]. And the output should be also in this form."
   ]
  },
  {
   "cell_type": "code",
   "execution_count": 1,
   "metadata": {
    "collapsed": true
   },
   "outputs": [],
   "source": [
    "# super lazy XD beats 94.48%\n",
    "\n",
    "class Solution(object):\n",
    "    def complexNumberMultiply(self, a, b):\n",
    "        \"\"\"\n",
    "        :type a: str\n",
    "        :type b: str\n",
    "        :rtype: str\n",
    "        \"\"\"\n",
    "        [r_a, i_a] = a.split(\"+\")\n",
    "        [r_b, i_b] = b.split(\"+\")\n",
    "        r_a = int(r_a)\n",
    "        r_b = int(r_b)\n",
    "        \n",
    "        i_a = i_a.split(\"i\")\n",
    "        i_a = int(i_a[0])\n",
    "\n",
    "        i_b = i_b.split(\"i\")\n",
    "        i_b = int(i_b[0])\n",
    "        res = r_a*r_b - i_a*i_b, \"+\", r_a*i_b + r_b*i_a,\"i\"\n",
    "        \n",
    "        \n",
    "        return \"%d+%di\" % (r_a*r_b - i_a*i_b, r_a*i_b + r_b*i_a)"
   ]
  },
  {
   "cell_type": "markdown",
   "metadata": {},
   "source": [
    "However there is a better way!!"
   ]
  },
  {
   "cell_type": "code",
   "execution_count": 2,
   "metadata": {
    "collapsed": false
   },
   "outputs": [
    {
     "name": "stdout",
     "output_type": "stream",
     "text": [
      "[1, 2, 3]\n"
     ]
    }
   ],
   "source": [
    "# map()\n",
    "listA = ['1','2','3']\n",
    "print map(int,listA)\n"
   ]
  },
  {
   "cell_type": "code",
   "execution_count": 5,
   "metadata": {
    "collapsed": true
   },
   "outputs": [],
   "source": [
    "class Solution(object):\n",
    "    def complexNumberMultiply(self, a, b):\n",
    "        \"\"\"\n",
    "        :type a: str\n",
    "        :type b: str\n",
    "        :rtype: str\n",
    "        \"\"\"\n",
    "        a1, a2 = map(int, a[:-1].split('+'))\n",
    "        b1, b2 = map(int, b[:-1].split('+'))\n",
    "        return '%d+%di' % (a1 * b1 - a2 * b2, a1 * b2 + a2 * b1)\n",
    "\n",
    "    # 46.43%    "
   ]
  },
  {
   "cell_type": "markdown",
   "metadata": {},
   "source": [
    "However there is a better way!!"
   ]
  },
  {
   "cell_type": "code",
   "execution_count": null,
   "metadata": {
    "collapsed": true
   },
   "outputs": [],
   "source": [
    "(a + i * b) * (c + i * d) = (a * c - b * d) + i * (a * d + b * c)\n",
    "\n",
    "real part = (a * c - b * d)\n",
    "imag part = (a * d + b * c)\n",
    "\n",
    "A= ac − bd\n",
    "B= ad + bc\n",
    "\n",
    "S1=ac,\n",
    "S2=bd,\n",
    "S3=(a+b)(c+d)\n",
    "\n",
    "A= S1 − S2\n",
    "B= S3 − S1 − S2"
   ]
  },
  {
   "cell_type": "code",
   "execution_count": 6,
   "metadata": {
    "collapsed": true
   },
   "outputs": [],
   "source": [
    "class Solution(object):\n",
    "    def complexNumberMultiply(self, a, b):\n",
    "        \"\"\"\n",
    "        :type a: str\n",
    "        :type b: str\n",
    "        :rtype: str\n",
    "        \"\"\"\n",
    "\n",
    "        r_a, i_a = a.split(\"+\")\n",
    "        r_a, i_a = int(r_a), int(i_a[:-1])\n",
    "        r_b, i_b = b.split(\"+\")\n",
    "        r_b, i_b = int(r_b), int(i_b[:-1])\n",
    "\n",
    "\n",
    "        S1 = r_a*r_b\n",
    "        S2 = i_a*i_b\n",
    "        S3 = (r_a+i_a)*(r_b+i_b)\n",
    "        \n",
    "        return \"%d+%di\" % (S1 - S2, S3-S1-S2)\n",
    "    \n",
    "# 35.07%    "
   ]
  },
  {
   "cell_type": "markdown",
   "metadata": {},
   "source": [
    "class Solution {\n",
    "public:\n",
    "    string complexNumberMultiply(string a, string b) {\n",
    "        int c,d,e,f, S1, S2, S3;\n",
    "        char ret[100];\n",
    "        sscanf(a.c_str(),\"%d+%di\",&c,&d);\n",
    "        sscanf(b.c_str(),\"%d+%di\",&e,&f);\n",
    "        cout<<c<<\" \"<<d<<\" \"<<e<<\" \"<<f<<endl;\n",
    "        S1 = c*e;\n",
    "        S2 = f*d;\n",
    "        S3 = (c+d)*(e+f);\n",
    "        sprintf(ret,\"%d+%di\",(S1-S2),(S3-S1-S2));\n",
    "        string ans(ret);\n",
    "        return ans;\n",
    "    }\n",
    "};\n",
    "\n",
    "// 30.07% QQ"
   ]
  }
 ],
 "metadata": {
  "kernelspec": {
   "display_name": "Python 2",
   "language": "python",
   "name": "python2"
  },
  "language_info": {
   "codemirror_mode": {
    "name": "ipython",
    "version": 2
   },
   "file_extension": ".py",
   "mimetype": "text/x-python",
   "name": "python",
   "nbconvert_exporter": "python",
   "pygments_lexer": "ipython2",
   "version": "2.7.13"
  }
 },
 "nbformat": 4,
 "nbformat_minor": 2
}
