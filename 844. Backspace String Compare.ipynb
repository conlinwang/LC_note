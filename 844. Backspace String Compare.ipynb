{
 "cells": [
  {
   "cell_type": "markdown",
   "metadata": {},
   "source": [
    "# 844. Backspace String Compare"
   ]
  },
  {
   "cell_type": "markdown",
   "metadata": {},
   "source": [
    "Given two strings S and T, return if they are equal when both are typed into empty text editors. # means a backspace character."
   ]
  },
  {
   "cell_type": "markdown",
   "metadata": {},
   "source": [
    "__Example 1:__\n",
    "\n"
   ]
  },
  {
   "cell_type": "code",
   "execution_count": null,
   "metadata": {
    "collapsed": true
   },
   "outputs": [],
   "source": [
    "Input: S = \"ab#c\", T = \"ad#c\"\n",
    "Output: true\n",
    "Explanation: Both S and T become \"ac\"."
   ]
  },
  {
   "cell_type": "markdown",
   "metadata": {},
   "source": [
    "__Example 2:__\n"
   ]
  },
  {
   "cell_type": "code",
   "execution_count": null,
   "metadata": {
    "collapsed": false
   },
   "outputs": [],
   "source": [
    "Input: S = \"ab##\", T = \"c#d#\"\n",
    "Output: true\n",
    "Explanation: Both S and T become \"\"."
   ]
  },
  {
   "cell_type": "markdown",
   "metadata": {},
   "source": [
    "__Example 3:__"
   ]
  },
  {
   "cell_type": "code",
   "execution_count": null,
   "metadata": {
    "collapsed": true
   },
   "outputs": [],
   "source": [
    "Input: S = \"a##c\", T = \"#a#c\"\n",
    "Output: true\n",
    "Explanation: Both S and T become \"c\"."
   ]
  },
  {
   "cell_type": "markdown",
   "metadata": {},
   "source": [
    "__Example 4:__"
   ]
  },
  {
   "cell_type": "code",
   "execution_count": null,
   "metadata": {
    "collapsed": true
   },
   "outputs": [],
   "source": [
    "Input: S = \"a#c\", T = \"b\"\n",
    "Output: false\n",
    "Explanation: S becomes \"c\" while T becomes \"b\"."
   ]
  },
  {
   "cell_type": "markdown",
   "metadata": {},
   "source": [
    "__Note:__\n",
    "\n",
    "1 <= S.length <= 200\n",
    "1 <= T.length <= 200\n",
    "S and T only contain lowercase letters and '#' characters.\n"
   ]
  },
  {
   "cell_type": "markdown",
   "metadata": {},
   "source": [
    "__Follow up:__\n",
    "\n",
    "Can you solve it in O(N) time and O(1) space?"
   ]
  },
  {
   "cell_type": "code",
   "execution_count": 2,
   "metadata": {
    "collapsed": true
   },
   "outputs": [],
   "source": [
    "class Solution(object):\n",
    "    def backspaceCompare(self, S, T):\n",
    "        \"\"\"\n",
    "        :type S: str\n",
    "        :type T: str\n",
    "        :rtype: bool\n",
    "        \"\"\"\n",
    "        def help(S):\n",
    "            S_tmp = []\n",
    "            for i in S:\n",
    "                if i =='#':\n",
    "                    if len(S_tmp)!=0:\n",
    "                        S_tmp.pop()        \n",
    "                else:\n",
    "                    S_tmp.append(i)\n",
    "            return S_tmp\n",
    "        if help(S)==help(T):\n",
    "            return True\n",
    "        return False\n",
    "# TC: O(len(S)+len(T))\n",
    "# SC: O(len(S)+len(T))\n",
    "# Runtime 36 ms"
   ]
  },
  {
   "cell_type": "code",
   "execution_count": 3,
   "metadata": {
    "collapsed": true
   },
   "outputs": [],
   "source": [
    "class Solution(object):\n",
    "    def backspaceCompare(self, S, T):\n",
    "        \"\"\"\n",
    "        :type S: str\n",
    "        :type T: str\n",
    "        :rtype: bool\n",
    "        \"\"\"\n",
    "        def help2(S):\n",
    "            i=0\n",
    "            while i != len(S):\n",
    "                if S[i] =='#':\n",
    "                    if i != 0:\n",
    "                        if i == len(S)-1:\n",
    "                            S = S[:i-1]\n",
    "                            i -=1\n",
    "                        else:\n",
    "                            S = S[:i-1]+S[i+1:]\n",
    "                            i -=1\n",
    "                    else:\n",
    "                        S = S[1:]\n",
    "                else:\n",
    "                    i+=1\n",
    "            return S\n",
    "\n",
    "        if help2(S)==help2(T):\n",
    "            return True\n",
    "        return False\n",
    "    \n",
    "# TC: O(len(S)+len(T))\n",
    "# SC: O(1)    \n",
    "# Runtime 39 ms"
   ]
  },
  {
   "cell_type": "code",
   "execution_count": null,
   "metadata": {
    "collapsed": true
   },
   "outputs": [],
   "source": [
    "class Solution(object):\n",
    "    def backspaceCompare(self, S, T):\n",
    "        \"\"\"\n",
    "        :type S: str\n",
    "        :type T: str\n",
    "        :rtype: bool\n",
    "        \"\"\"\n",
    "        i = len(S)-1\n",
    "        j = len(T)-1\n",
    "        skip_S = 0\n",
    "        skip_T = 0\n",
    "        while (i >=0 or j >=0):\n",
    "            counter +=1\n",
    "            while i>=0:\n",
    "                if S[i] == '#':\n",
    "                    skip_S += 1\n",
    "                    i -= 1\n",
    "                elif skip_S > 0:\n",
    "                    skip_S -= 1\n",
    "                    i -= 1\n",
    "                else:\n",
    "                    break\n",
    "            while j>=0:\n",
    "                if T[j] == '#':\n",
    "                    skip_T += 1\n",
    "                    j -= 1\n",
    "                elif skip_T > 0:\n",
    "                    skip_T -= 1\n",
    "                    j -= 1\n",
    "                else:\n",
    "                    break\n",
    "\n",
    "\n",
    "            if i>=0 and j >=0 and S[i]!=T[j]:\n",
    "                return False\n",
    "            \n",
    "            if i>=0 and j>=0 and S[i]==T[j]:\n",
    "                i -=1\n",
    "                j -=1\n",
    "                continue # skip checking if i or j ended\n",
    "            #check if i or j one is ended and the other are not\n",
    "            if  (i < 0 and j>=0) or (i>=0 and j<0):\n",
    "                return False\n",
    "            \n",
    "        return True\n",
    "\n",
    "# TC: O(len(S)+len(T))\n",
    "# SC: O(1)    \n",
    "# Runtime 65 ms    "
   ]
  }
 ],
 "metadata": {
  "kernelspec": {
   "display_name": "Python 2",
   "language": "python",
   "name": "python2"
  },
  "language_info": {
   "codemirror_mode": {
    "name": "ipython",
    "version": 2
   },
   "file_extension": ".py",
   "mimetype": "text/x-python",
   "name": "python",
   "nbconvert_exporter": "python",
   "pygments_lexer": "ipython2",
   "version": "2.7.13"
  }
 },
 "nbformat": 4,
 "nbformat_minor": 2
}
