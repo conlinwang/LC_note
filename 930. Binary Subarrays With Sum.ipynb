{
 "cells": [
  {
   "cell_type": "markdown",
   "metadata": {},
   "source": [
    "# 930. Binary Subarrays With Sum"
   ]
  },
  {
   "cell_type": "markdown",
   "metadata": {},
   "source": [
    "In an array A of 0s and 1s, how many non-empty subarrays have sum S?"
   ]
  },
  {
   "cell_type": "markdown",
   "metadata": {},
   "source": [
    "__Example 1:__"
   ]
  },
  {
   "cell_type": "code",
   "execution_count": null,
   "metadata": {
    "collapsed": true
   },
   "outputs": [],
   "source": [
    "Input: A = [1,0,1,0,1], S = 2\n",
    "Output: 4\n",
    "Explanation: \n",
    "The 4 subarrays are bolded below:\n",
    "[1,0,1,0,1]\n",
    "[1,0,1,0,1]\n",
    "[1,0,1,0,1]\n",
    "[1,0,1,0,1]"
   ]
  },
  {
   "cell_type": "markdown",
   "metadata": {},
   "source": [
    "__Note:__\n",
    "\n"
   ]
  },
  {
   "cell_type": "code",
   "execution_count": null,
   "metadata": {
    "collapsed": true
   },
   "outputs": [],
   "source": [
    "1. A.length <= 30000\n",
    "2. 0 <= S <= A.length\n",
    "3. A[i] is either 0 or 1."
   ]
  },
  {
   "cell_type": "code",
   "execution_count": 1,
   "metadata": {
    "collapsed": true
   },
   "outputs": [],
   "source": [
    "class Solution(object):\n",
    "    def numSubarraysWithSum(self, A, S):\n",
    "        \"\"\"\n",
    "        :type A: List[int]\n",
    "        :type S: int\n",
    "        :rtype: int\n",
    "        \"\"\"\n",
    "        # use prefix sum\n",
    "        prefix_sum = [0]\n",
    "        for a in A:\n",
    "            prefix_sum.append(prefix_sum[-1] + a)\n",
    "        counter = {}\n",
    "        ans = 0\n",
    "        for x in prefix_sum:\n",
    "            if x in counter:\n",
    "                ans += counter[x]\n",
    "            if x + S not in counter:\n",
    "                counter[x + S] = 1\n",
    "            else:\n",
    "                counter[x + S] += 1\n",
    "        return ans\n",
    "                "
   ]
  },
  {
   "cell_type": "code",
   "execution_count": 2,
   "metadata": {
    "collapsed": true
   },
   "outputs": [],
   "source": [
    "A = [1,0,1,0,1]\n",
    "S = 2 \n",
    "my_sol = Solution()\n"
   ]
  },
  {
   "cell_type": "code",
   "execution_count": 3,
   "metadata": {
    "collapsed": false
   },
   "outputs": [
    {
     "data": {
      "text/plain": [
       "4"
      ]
     },
     "execution_count": 3,
     "metadata": {},
     "output_type": "execute_result"
    }
   ],
   "source": [
    "my_sol.numSubarraysWithSum(A,S)\n"
   ]
  },
  {
   "cell_type": "code",
   "execution_count": 7,
   "metadata": {
    "collapsed": false
   },
   "outputs": [
    {
     "name": "stdout",
     "output_type": "stream",
     "text": [
      "1\n",
      "0\n"
     ]
    }
   ],
   "source": [
    "A = [[1,2,3],[4,5,6],[7,8,9]]\n",
    "for index in range( len(A)-2,-1, -1):\n",
    "    print index"
   ]
  },
  {
   "cell_type": "code",
   "execution_count": null,
   "metadata": {
    "collapsed": true
   },
   "outputs": [],
   "source": []
  }
 ],
 "metadata": {
  "kernelspec": {
   "display_name": "Python 2",
   "language": "python",
   "name": "python2"
  },
  "language_info": {
   "codemirror_mode": {
    "name": "ipython",
    "version": 2
   },
   "file_extension": ".py",
   "mimetype": "text/x-python",
   "name": "python",
   "nbconvert_exporter": "python",
   "pygments_lexer": "ipython2",
   "version": "2.7.13"
  }
 },
 "nbformat": 4,
 "nbformat_minor": 2
}
