{
 "cells": [
  {
   "cell_type": "markdown",
   "metadata": {},
   "source": [
    "# 934. Shortest Bridge"
   ]
  },
  {
   "cell_type": "markdown",
   "metadata": {},
   "source": [
    "In a given 2D binary array A, there are two islands.  (An island is a 4-directionally connected group of 1s not connected to any other 1s.)\n",
    "\n",
    "Now, we may change 0s to 1s so as to connect the two islands together to form 1 island.\n",
    "\n",
    "Return the smallest number of 0s that must be flipped.  (It is guaranteed that the answer is at least 1.)"
   ]
  },
  {
   "cell_type": "markdown",
   "metadata": {},
   "source": [
    "__Example 1:__"
   ]
  },
  {
   "cell_type": "code",
   "execution_count": null,
   "metadata": {
    "collapsed": true
   },
   "outputs": [],
   "source": [
    "Input: [[0,1],[1,0]]\n",
    "Output: 1"
   ]
  },
  {
   "cell_type": "markdown",
   "metadata": {},
   "source": [
    "__Example 2:__"
   ]
  },
  {
   "cell_type": "code",
   "execution_count": null,
   "metadata": {
    "collapsed": true
   },
   "outputs": [],
   "source": [
    "Input: [[0,1,0],[0,0,0],[0,0,1]]\n",
    "Output: 2"
   ]
  },
  {
   "cell_type": "markdown",
   "metadata": {},
   "source": [
    "__Example 3:__"
   ]
  },
  {
   "cell_type": "code",
   "execution_count": null,
   "metadata": {
    "collapsed": true
   },
   "outputs": [],
   "source": [
    "Input: [[1,1,1,1,1],[1,0,0,0,1],[1,0,1,0,1],[1,0,0,0,1],[1,1,1,1,1]]\n",
    "Output: 1"
   ]
  },
  {
   "cell_type": "code",
   "execution_count": null,
   "metadata": {
    "collapsed": true
   },
   "outputs": [],
   "source": [
    "Note:\n",
    "\n",
    "1 <= A.length = A[0].length <= 100\n",
    "A[i][j] == 0 or A[i][j] == 1"
   ]
  },
  {
   "cell_type": "code",
   "execution_count": 1,
   "metadata": {
    "collapsed": true
   },
   "outputs": [],
   "source": [
    "class Solution(object):\n",
    "    def shortestBridge(self, A):\n",
    "        direction = ((1,0),(-1,0),(0,1),(0,-1))\n",
    "        n_row = len(A)\n",
    "        n_col = len(A[0])\n",
    "        island = set()\n",
    "        global G\n",
    "        G = A[:]\n",
    "        def explore(i,j):\n",
    "            global G\n",
    "            G[i][j] = -1\n",
    "            res = set()\n",
    "            q = [(i,j)]\n",
    "            while q:\n",
    "                node = q.pop(0)\n",
    "                res.add(node)\n",
    "                for nei in direction:\n",
    "                    new_row, new_col = node[0]+nei[0], node[1]+nei[1]\n",
    "                    if 0 <= new_row < n_row and  0 <= new_col < n_col:\n",
    "                        if G[new_row][new_col] == 1:\n",
    "                            q.append((new_row, new_col))\n",
    "                            G[new_row][new_col] = -1\n",
    "            return res\n",
    "\n",
    "        find = 0\n",
    "        for i in range(n_row):\n",
    "            if not find:\n",
    "                for j in range(n_col):\n",
    "                    if G[i][j] == 1 and not find:\n",
    "                        island = explore(i,j)\n",
    "                        find = 1\n",
    "                        break\n",
    "        \n",
    "        q = list(island)\n",
    "        visited = set()\n",
    "        flip = 0\n",
    "        stop = 1\n",
    "        while q:\n",
    "            q_level = q[:]\n",
    "            q = []\n",
    "            while q_level:\n",
    "                node = q_level.pop(0)\n",
    "                visited.add(node)\n",
    "                for nei in direction:\n",
    "                    new_node = (node[0]+nei[0], node[1]+nei[1])\n",
    "                    if 0 <= new_node[0] < n_row and 0 <= new_node[1] < n_col:\n",
    "                        if new_node not in visited and new_node not in q_level:\n",
    "                            if G[new_node[0]][new_node[1]] == 1:\n",
    "                                return flip\n",
    "                            elif G[new_node[0]][new_node[1]] == 0 and new_node not in q:\n",
    "                                q.append(new_node)\n",
    "            flip += 1\n",
    "        \n",
    "        return 0"
   ]
  },
  {
   "cell_type": "code",
   "execution_count": 2,
   "metadata": {
    "collapsed": false
   },
   "outputs": [
    {
     "name": "stdout",
     "output_type": "stream",
     "text": [
      "3\n"
     ]
    }
   ],
   "source": [
    "A = [[1,1,1,1,1],[1,0,0,0,1],[1,0,1,0,1],[1,0,0,0,1],[1,1,1,1,1]]\n",
    "A = [[1,1,0,0,0],[1,0,0,0,0],[1,0,0,0,0],[0,0,0,1,1],[0,0,0,1,1]]\n",
    "my_sol = Solution()\n",
    "print my_sol.shortestBridge(A)        "
   ]
  },
  {
   "cell_type": "code",
   "execution_count": null,
   "metadata": {
    "collapsed": true
   },
   "outputs": [],
   "source": []
  }
 ],
 "metadata": {
  "kernelspec": {
   "display_name": "Python 2",
   "language": "python",
   "name": "python2"
  },
  "language_info": {
   "codemirror_mode": {
    "name": "ipython",
    "version": 2
   },
   "file_extension": ".py",
   "mimetype": "text/x-python",
   "name": "python",
   "nbconvert_exporter": "python",
   "pygments_lexer": "ipython2",
   "version": "2.7.13"
  }
 },
 "nbformat": 4,
 "nbformat_minor": 2
}
