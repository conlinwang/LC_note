{
 "cells": [
  {
   "cell_type": "markdown",
   "metadata": {},
   "source": [
    "## Leetcode 1. Two Sum\n",
    "Given an array of integers, return __indices__ of the two numbers such that they add up to a specific target.\n",
    "\n",
    "You may assume that each input would have ___exactly___ one solution, and you may not use the same element twice.\n",
    "\n",
    "__Example:__"
   ]
  },
  {
   "cell_type": "code",
   "execution_count": null,
   "metadata": {
    "collapsed": true
   },
   "outputs": [],
   "source": [
    "Given nums = [2, 7, 11, 15], target = 9,\n",
    "\n",
    "Because nums[0] + nums[1] = 2 + 7 = 9,\n",
    "return [0, 1]."
   ]
  },
  {
   "cell_type": "markdown",
   "metadata": {},
   "source": [
    "### (1) Brute force method"
   ]
  },
  {
   "cell_type": "code",
   "execution_count": 3,
   "metadata": {
    "collapsed": false
   },
   "outputs": [
    {
     "name": "stdout",
     "output_type": "stream",
     "text": [
      "[0, 1]\n"
     ]
    }
   ],
   "source": [
    "class Solution(object):\n",
    "    def twoSum(self, nums, target):\n",
    "        \"\"\"\n",
    "        :type nums: List[int]\n",
    "        :type target: int\n",
    "        :rtype: List[int]\n",
    "        \"\"\"\n",
    "        if len(nums) <= 1:\n",
    "            return False\n",
    "        for i in range(len(nums)):\n",
    "            for j in range(i, len(nums)):\n",
    "                if (nums[i] + nums[j] == target):\n",
    "                    return [i, j]\n",
    "        return False\n",
    "\n",
    "my_Solution = Solution()\n",
    "print my_Solution.twoSum([2, 7, 11, 15],9)\n",
    "\n",
    "# O(n^2) time complexity"
   ]
  },
  {
   "cell_type": "markdown",
   "metadata": {},
   "source": [
    "### (2) Sort method"
   ]
  },
  {
   "cell_type": "code",
   "execution_count": 7,
   "metadata": {
    "collapsed": false
   },
   "outputs": [
    {
     "name": "stdout",
     "output_type": "stream",
     "text": [
      "[0, 1]\n"
     ]
    }
   ],
   "source": [
    "class Solution(object):\n",
    "    def twoSum(self, nums, target):\n",
    "        if len(nums) <= 1:\n",
    "            return False\n",
    "        nums = sorted(nums)\n",
    "        i = 0\n",
    "        j = len(nums)-1\n",
    "        while (i<j):\n",
    "            if(nums[i] + nums[j] == target):\n",
    "                return [i, j]\n",
    "            elif(nums[i] + nums[j] < target):\n",
    "                i = i+1\n",
    "            else:\n",
    "                j = j-1\n",
    "        return False\n",
    "\n",
    "        \n",
    "\n",
    "my_Solution = Solution()\n",
    "print my_Solution.twoSum([2, 7, 11, 15],9)\n",
    "# O(nlg(n)) time complexity"
   ]
  },
  {
   "cell_type": "markdown",
   "metadata": {},
   "source": [
    "### (3) Hash method: "
   ]
  },
  {
   "cell_type": "code",
   "execution_count": 8,
   "metadata": {
    "collapsed": false
   },
   "outputs": [
    {
     "name": "stdout",
     "output_type": "stream",
     "text": [
      "[0, 1]\n"
     ]
    }
   ],
   "source": [
    "class Solution(object):\n",
    "    def twoSum(self, nums, target):\n",
    "        \"\"\"\n",
    "        :type nums: List[int]\n",
    "        :type target: int\n",
    "        :rtype: List[int]\n",
    "        \"\"\"\n",
    "        if len(nums) <= 1:\n",
    "            return False\n",
    "        buff_dict = {}\n",
    "        for i in range(len(nums)):\n",
    "            if nums[i] in buff_dict:\n",
    "                return [buff_dict[nums[i]], i]\n",
    "            else:\n",
    "                buff_dict[target - nums[i]] = i\n",
    "\n",
    "my_Solution = Solution()\n",
    "print my_Solution.twoSum([2, 7, 11, 15],9)\n",
    "# O(n) time complexity"
   ]
  },
  {
   "cell_type": "markdown",
   "metadata": {},
   "source": [
    "## 2. Two Sum with multiple solutions, A number can only use once"
   ]
  },
  {
   "cell_type": "markdown",
   "metadata": {},
   "source": [
    "Given an array of integers, find two numbers such that they add up to a specific target number. The function twoSum should return all such indices of the two numbers such that they add up to the target, where index1 must be less than index2. Please note that your returned answers (both index1 and index2) are not zero-based. __You may assume that each input would have no duplicates in the input but there could be multiple possible pairs. The pairs should be ordered by the increasing order of the first index in the pair.__ Input: numbers={2, 7, 11, 15}, target=9 Output: index1=1, index2=2"
   ]
  },
  {
   "cell_type": "markdown",
   "metadata": {},
   "source": [
    "### (1) Brute force method"
   ]
  },
  {
   "cell_type": "code",
   "execution_count": 11,
   "metadata": {
    "collapsed": false
   },
   "outputs": [
    {
     "name": "stdout",
     "output_type": "stream",
     "text": [
      "[[0, 5], [1, 4], [2, 3]]\n"
     ]
    }
   ],
   "source": [
    "class Solution(object):\n",
    "    def twoSum(self, nums, target):\n",
    "        \"\"\"\n",
    "        :type nums: List[int]\n",
    "        :type target: int\n",
    "        :rtype: List[int]\n",
    "        \"\"\"\n",
    "        if len(nums) <= 1:\n",
    "            return False\n",
    "        sol = []\n",
    "        for i in range(len(nums)):\n",
    "            for j in range(i, len(nums)):\n",
    "                if (nums[i] + nums[j] == target):\n",
    "                    sol.append([i, j])\n",
    "        return sol\n",
    "\n",
    "my_Solution = Solution()\n",
    "print my_Solution.twoSum([1, 2, 3, 6, 7, 8],9)\n",
    "\n",
    "# O(n^2) time complexity"
   ]
  },
  {
   "cell_type": "markdown",
   "metadata": {},
   "source": [
    "### (2) Sort method"
   ]
  },
  {
   "cell_type": "code",
   "execution_count": 14,
   "metadata": {
    "collapsed": false
   },
   "outputs": [
    {
     "name": "stdout",
     "output_type": "stream",
     "text": [
      "[[0, 5], [1, 4], [2, 3]]\n"
     ]
    }
   ],
   "source": [
    "class Solution(object):\n",
    "    def twoSum(self, nums, target):\n",
    "        if len(nums) <= 1:\n",
    "            return False\n",
    "        nums = sorted(nums)\n",
    "        sol = []\n",
    "        i = 0\n",
    "        j = len(nums)-1\n",
    "        while (i<j):\n",
    "            if(nums[i] + nums[j] == target):\n",
    "                sol.append([i, j])\n",
    "                i = i+1\n",
    "                j = j-1\n",
    "            elif(nums[i] + nums[j] < target):\n",
    "                i = i+1\n",
    "            else:\n",
    "                j = j-1\n",
    "        return sol\n",
    "my_Solution = Solution()\n",
    "print my_Solution.twoSum([1, 2, 3, 6, 7, 8],9)    "
   ]
  },
  {
   "cell_type": "markdown",
   "metadata": {},
   "source": [
    "### (3) Hash method: "
   ]
  },
  {
   "cell_type": "code",
   "execution_count": 13,
   "metadata": {
    "collapsed": false
   },
   "outputs": [
    {
     "name": "stdout",
     "output_type": "stream",
     "text": [
      "[[2, 3], [1, 4], [0, 5]]\n"
     ]
    }
   ],
   "source": [
    "class Solution(object):\n",
    "    def twoSum(self, nums, target):\n",
    "        if len(nums) <= 1:\n",
    "            return False\n",
    "        buff_dict = {}\n",
    "        sol = []\n",
    "        for i in range(len(nums)):\n",
    "            if nums[i] in buff_dict:\n",
    "                sol.append([buff_dict[ nums[i] ], i])\n",
    "                buff_dict.pop(nums[i])\n",
    "            else:\n",
    "                buff_dict[target - nums[i]] = i\n",
    "        return sol\n",
    "\n",
    "my_Solution = Solution()\n",
    "print my_Solution.twoSum([1, 2, 3, 6, 7, 8],9)\n",
    "# O(n) time complexity"
   ]
  },
  {
   "cell_type": "markdown",
   "metadata": {},
   "source": [
    "## 3. Two Sum with multiple solutions But No Duplicates Number input"
   ]
  },
  {
   "cell_type": "markdown",
   "metadata": {},
   "source": [
    "for the input case of [1, 1, 1] target = 2\n",
    "output should be [0,1], [0,2], [1,2]\n",
    "only Brute force method with O(n^2) can do it."
   ]
  },
  {
   "cell_type": "markdown",
   "metadata": {},
   "source": [
    "## Leetcode 15. 3Sum"
   ]
  },
  {
   "cell_type": "markdown",
   "metadata": {},
   "source": [
    "Given an array S of n integers, are there elements _a, b, c_ in S such that _a + b + c = 0_? Find all unique triplets in the array which gives the sum of zero.\n",
    "\n",
    "__Note:__ The solution set must not contain duplicate triplets."
   ]
  },
  {
   "cell_type": "code",
   "execution_count": null,
   "metadata": {
    "collapsed": false
   },
   "outputs": [],
   "source": [
    "For example, given array S = [-1, 0, 1, 2, -1, -4],\n",
    "\n",
    "A solution set is:\n",
    "[\n",
    "  [-1, 0, 1],\n",
    "  [-1, -1, 2]\n",
    "]"
   ]
  },
  {
   "cell_type": "code",
   "execution_count": 16,
   "metadata": {
    "collapsed": false
   },
   "outputs": [
    {
     "name": "stdout",
     "output_type": "stream",
     "text": [
      "[(-1, -1, 2), (-1, 0, 1)]\n"
     ]
    }
   ],
   "source": [
    "class Solution(object):\n",
    "    def threeSum(self, nums):\n",
    "        \"\"\"\n",
    "        :type nums: List[int]\n",
    "        :rtype: List[List[int]]\n",
    "        \"\"\"\n",
    "        sol = []\n",
    "        nums.sort() # nlg(n)\n",
    "        for i in xrange(len(nums)-2):\n",
    "        \tif i > 0 and nums[i] == nums[i-1]:  ## WHY?\n",
    "        \t\tcontinue\n",
    "        \tl, r = i+1, len(nums)-1\n",
    "        \twhile l < r:\n",
    "        \t\ts = nums[i] + nums[l] + nums[r]\n",
    "        \t\tif (s < 0):\n",
    "        \t\t\tl += 1\n",
    "        \t\telif (s > 0):\n",
    "        \t\t\tr -= 1\n",
    "        \t\telse:\n",
    "        \t\t\tsol.append((nums[i],nums[l],nums[r]))\n",
    "        \t\t\twhile(l < r and nums[l] == nums[l+1]):\n",
    "        \t\t\t\tl += 1\n",
    "        \t\t\twhile(l < r and nums[r] == nums[r-1]):\n",
    "        \t\t\t\tr -= 1\n",
    "        \t\t\tl += 1 ; r -= 1\n",
    "        return sol\n",
    "        \t# if i > 0 and \n",
    "\n",
    "S = [-1, 0, 1, 2, -1, -4]\n",
    "my_Solution = Solution()\n",
    "print my_Solution.threeSum(S)\n",
    "## sort cost O( nlg(n) ) + O(n^2) = O(n^2)"
   ]
  },
  {
   "cell_type": "markdown",
   "metadata": {},
   "source": [
    "### Leetcode 18. 4Sum"
   ]
  },
  {
   "cell_type": "markdown",
   "metadata": {},
   "source": [
    "Given an array S of _n_ integers, are there elements _a, b, c, and d_ in S such that _a + b + c + d_ = target? Find all unique quadruplets in the array which gives the sum of target.\n",
    "\n",
    "__Note:__ The solution set must not contain duplicate quadruplets."
   ]
  },
  {
   "cell_type": "code",
   "execution_count": null,
   "metadata": {
    "collapsed": true
   },
   "outputs": [],
   "source": [
    "For example, given array S = [1, 0, -1, 0, -2, 2], and target = 0.\n",
    "\n",
    "A solution set is:\n",
    "[\n",
    "  [-1,  0, 0, 1],\n",
    "  [-2, -1, 1, 2],\n",
    "  [-2,  0, 0, 2]\n",
    "]"
   ]
  },
  {
   "cell_type": "code",
   "execution_count": 18,
   "metadata": {
    "collapsed": false
   },
   "outputs": [
    {
     "name": "stdout",
     "output_type": "stream",
     "text": [
      "[[-3, -2, 2, 3], [-3, -1, 1, 3], [-3, 0, 0, 3], [-3, 0, 1, 2], [-2, -1, 0, 3], [-2, -1, 1, 2], [-2, 0, 0, 2], [-1, 0, 0, 1]]\n"
     ]
    }
   ],
   "source": [
    "class Solution(object):\n",
    "    def fourSum(self, nums, target):\n",
    "        \"\"\"\n",
    "        :type nums: List[int]\n",
    "        :rtype: List[List[int]]\n",
    "        \"\"\"\n",
    "        sol = []\n",
    "        nums.sort() # nlg(n)\n",
    "        for j in range(0,len(nums)-3):\n",
    "            for i in range(j+1, len(nums)-2):\n",
    "                l, r = i+1, len(nums)-1\n",
    "                while l < r:\n",
    "                    s = nums[i] + nums[l] + nums[r] + nums[j]\n",
    "                    if (s < target):\n",
    "                        l += 1\n",
    "                    elif (s > target):\n",
    "                        r -= 1\n",
    "                    else:\n",
    "                        if([nums[j], nums[i],nums[l],nums[r]] not in sol):\n",
    "                            sol.append([nums[j], nums[i],nums[l],nums[r]])\n",
    "                        while(l < r and nums[l] == nums[l+1]):\n",
    "                            l += 1\n",
    "                        while(l < r and nums[r] == nums[r-1]):\n",
    "                            r -= 1\n",
    "                        l += 1 ; r -= 1\n",
    "        return sol\n",
    "S = [-1,0,1,2,-1,-4]\n",
    "S2 =[-3,-2,-1,0,0,1,2,3]\n",
    "T2 = 0\n",
    "my_Solution = Solution()\n",
    "print my_Solution.fourSum(S2,T2)   \n",
    "\n",
    "# modified from 3 sum O(n^3) time conplexity"
   ]
  },
  {
   "cell_type": "markdown",
   "metadata": {},
   "source": [
    "## for K sum problem"
   ]
  },
  {
   "cell_type": "code",
   "execution_count": 19,
   "metadata": {
    "collapsed": true
   },
   "outputs": [],
   "source": [
    "def fourSum(self, nums, target):\n",
    "    def findNsum(nums, target, N, result, results):\n",
    "        if len(nums) < N or N < 2 or target < nums[0]*N or target > nums[-1]*N:  # early termination\n",
    "            return\n",
    "        if N == 2: # two pointers solve sorted 2-sum problem\n",
    "            l,r = 0,len(nums)-1\n",
    "            while l < r:\n",
    "                s = nums[l] + nums[r]\n",
    "                if s == target:\n",
    "                    results.append(result + [nums[l], nums[r]])\n",
    "                    l += 1\n",
    "                    while l < r and nums[l] == nums[l-1]:\n",
    "                        l += 1\n",
    "                elif s < target:\n",
    "                    l += 1\n",
    "                else:\n",
    "                    r -= 1\n",
    "        else: # recursively reduce N\n",
    "            for i in range(len(nums)-N+1):\n",
    "                if i == 0 or (i > 0 and nums[i-1] != nums[i]):\n",
    "                    findNsum(nums[i+1:], target-nums[i], N-1, result+[nums[i]], results)\n",
    "\n",
    "    results = []\n",
    "    findNsum(sorted(nums), target, 4, [], results)\n",
    "    return results"
   ]
  },
  {
   "cell_type": "code",
   "execution_count": null,
   "metadata": {
    "collapsed": true
   },
   "outputs": [],
   "source": []
  }
 ],
 "metadata": {
  "kernelspec": {
   "display_name": "Python 2",
   "language": "python",
   "name": "python2"
  },
  "language_info": {
   "codemirror_mode": {
    "name": "ipython",
    "version": 2
   },
   "file_extension": ".py",
   "mimetype": "text/x-python",
   "name": "python",
   "nbconvert_exporter": "python",
   "pygments_lexer": "ipython2",
   "version": "2.7.13"
  }
 },
 "nbformat": 4,
 "nbformat_minor": 2
}
