{
 "cells": [
  {
   "cell_type": "markdown",
   "metadata": {},
   "source": [
    "## 628. Maximum Product of Three Numbers\n"
   ]
  },
  {
   "cell_type": "markdown",
   "metadata": {},
   "source": [
    "Given an integer array, find three numbers whose product is maximum and output the maximum product."
   ]
  },
  {
   "cell_type": "markdown",
   "metadata": {},
   "source": [
    "Example 1:"
   ]
  },
  {
   "cell_type": "code",
   "execution_count": null,
   "metadata": {
    "collapsed": true
   },
   "outputs": [],
   "source": [
    "Input: [1,2,3]\n",
    "Output: 6"
   ]
  },
  {
   "cell_type": "markdown",
   "metadata": {},
   "source": [
    "Example 2:\n"
   ]
  },
  {
   "cell_type": "code",
   "execution_count": null,
   "metadata": {
    "collapsed": true
   },
   "outputs": [],
   "source": [
    "Input:[1,2,3,4]\n",
    "Output: 24"
   ]
  },
  {
   "cell_type": "markdown",
   "metadata": {},
   "source": [
    "Note:\n",
    "1. The length of the given array will be in range [3,104] and all elements are in the range [-1000, 1000].\n",
    "2. Multiplication of any three numbers in the input won't exceed the range of 32-bit signed integer."
   ]
  },
  {
   "cell_type": "markdown",
   "metadata": {},
   "source": [
    "Thinking:\n",
    "if the integer array x is sorted, then the maximun will be the product of x[-1], x[-2], x[-3], or x[0], x[1]. x[2]"
   ]
  },
  {
   "cell_type": "code",
   "execution_count": 1,
   "metadata": {
    "collapsed": true
   },
   "outputs": [],
   "source": [
    "class Solution(object):\n",
    "    def maximumProduct(self, nums):\n",
    "        \"\"\"\n",
    "        :type nums: List[int]\n",
    "        :rtype: int\n",
    "        \"\"\"\n",
    "        nums.sort()\n",
    "        return max(nums[-1] * nums[-2] * nums[-3], nums[0] * nums[1] * nums[-1])"
   ]
  },
  {
   "cell_type": "markdown",
   "metadata": {},
   "source": [
    "This will lead to time complexity to O(nlogn) for sorting.\n",
    "I want a method with O(n)"
   ]
  },
  {
   "cell_type": "code",
   "execution_count": null,
   "metadata": {
    "collapsed": true
   },
   "outputs": [],
   "source": [
    "class Solution(object):\n",
    "    def maximumProduct(self, nums):\n",
    "        \"\"\"\n",
    "        :type nums: List[int]\n",
    "        :rtype: int\n",
    "        \"\"\"\n",
    "        max01, max02, max03 = -int(\"inf\"), -int(\"inf\"), -int(\"inf\")\n",
    "        min01, min02 = int(\"inf\"), int(\"inf\")\n",
    "        for index in range(0, len(nums)):\n",
    "            if nums[index] > max03:\n",
    "                if nums[index] > max02:\n",
    "                    if nums[index] > max01:\n",
    "                        max01, max02, max03 = nums[index], max01, max02\n",
    "                    else:\n",
    "                        max02, max03 = nums[index], max02\n",
    "                else:\n",
    "                    max03 = nums[index]\n",
    "            if nums[index] < min02:\n",
    "                if nums[index] < min01:\n",
    "                    min01, min02 = nums[index], min01\n",
    "                else:\n",
    "                    min02 = nums[index]\n",
    "                \n",
    "        return max(max01* max02* max03, min01* min02* max01)\n",
    "#97.68%    "
   ]
  },
  {
   "cell_type": "code",
   "execution_count": null,
   "metadata": {
    "collapsed": true
   },
   "outputs": [],
   "source": []
  },
  {
   "cell_type": "code",
   "execution_count": null,
   "metadata": {
    "collapsed": true
   },
   "outputs": [],
   "source": [
    "class Solution(object):\n",
    "    def judgeSquareSum(self, c):\n",
    "        \"\"\"\n",
    "        :type c: int\n",
    "        :rtype: bool\n",
    "        \"\"\"\n",
    "        for index in range(0, int(c**0.5)+1):\n",
    "        \tif c-index**2 ==  int((c-index**2)**0.5)**2:\n",
    "        \t\treturn True\n",
    "        \tprint index\n",
    "        return False"
   ]
  },
  {
   "cell_type": "code",
   "execution_count": null,
   "metadata": {
    "collapsed": true
   },
   "outputs": [],
   "source": [
    "class Solution(object):\n",
    "    def judgeSquareSum(self, c):\n",
    "        \"\"\"\n",
    "        :type c: int\n",
    "        :rtype: bool\n",
    "        \"\"\"\n",
    "        i = 2\n",
    "        while i**2 <= c:\n",
    "            count = 0\n",
    "            if c % i == 0:\n",
    "                while c % i == 0:\n",
    "                    count += 1\n",
    "                    c /= i\n",
    "                if i % 4 == 3 and count % 2 != 0:\n",
    "                    return False\n",
    "            i += 1\n",
    "        return c % 4 != 3"
   ]
  }
 ],
 "metadata": {
  "kernelspec": {
   "display_name": "Python 2",
   "language": "python",
   "name": "python2"
  },
  "language_info": {
   "codemirror_mode": {
    "name": "ipython",
    "version": 2
   },
   "file_extension": ".py",
   "mimetype": "text/x-python",
   "name": "python",
   "nbconvert_exporter": "python",
   "pygments_lexer": "ipython2",
   "version": "2.7.13"
  }
 },
 "nbformat": 4,
 "nbformat_minor": 2
}
