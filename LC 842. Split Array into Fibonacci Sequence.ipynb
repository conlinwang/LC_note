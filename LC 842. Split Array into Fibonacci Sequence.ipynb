{
 "cells": [
  {
   "cell_type": "markdown",
   "metadata": {},
   "source": [
    "# 842. Split Array into Fibonacci Sequence"
   ]
  },
  {
   "cell_type": "markdown",
   "metadata": {},
   "source": [
    "Given a string S of digits, such as S = \"123456579\", we can split it into a Fibonacci-like sequence [123, 456, 579].\n",
    "\n",
    "Formally, a Fibonacci-like sequence is a list F of non-negative integers such that:\n",
    "\n",
    "0 <= F[i] <= 2^31 - 1, (that is, each integer fits a 32-bit signed integer type);\n",
    "F.length >= 3;\n",
    "and F[i] + F[i+1] = F[i+2] for all 0 <= i < F.length - 2.\n",
    "Also, note that when splitting the string into pieces, each piece must not have extra leading zeroes, except if the piece is the number 0 itself.\n",
    "\n",
    "Return any Fibonacci-like sequence split from S, or return [] if it cannot be done.\n",
    "\n"
   ]
  },
  {
   "cell_type": "markdown",
   "metadata": {},
   "source": [
    "__Example 1:__"
   ]
  },
  {
   "cell_type": "markdown",
   "metadata": {},
   "source": [
    "Input: \"123456579\"\n",
    "Output: [123,456,579]"
   ]
  },
  {
   "cell_type": "markdown",
   "metadata": {},
   "source": [
    "__ Example 2:__\n"
   ]
  },
  {
   "cell_type": "code",
   "execution_count": null,
   "metadata": {
    "collapsed": true
   },
   "outputs": [],
   "source": [
    "Input: \"11235813\"\n",
    "Output: [1,1,2,3,5,8,13]"
   ]
  },
  {
   "cell_type": "markdown",
   "metadata": {},
   "source": [
    "__ Example 3: __"
   ]
  },
  {
   "cell_type": "code",
   "execution_count": null,
   "metadata": {
    "collapsed": true
   },
   "outputs": [],
   "source": [
    "Input: \"112358130\"\n",
    "Output: []\n",
    "Explanation: The task is impossible."
   ]
  },
  {
   "cell_type": "markdown",
   "metadata": {},
   "source": [
    "__Example 4:__"
   ]
  },
  {
   "cell_type": "code",
   "execution_count": null,
   "metadata": {
    "collapsed": true
   },
   "outputs": [],
   "source": [
    "Input: \"0123\"\n",
    "Output: []\n",
    "Explanation: Leading zeroes are not allowed, so \"01\", \"2\", \"3\" is not valid."
   ]
  },
  {
   "cell_type": "markdown",
   "metadata": {},
   "source": [
    "__Example 5:__"
   ]
  },
  {
   "cell_type": "code",
   "execution_count": null,
   "metadata": {
    "collapsed": true
   },
   "outputs": [],
   "source": [
    "Input: \"1101111\"\n",
    "Output: [110, 1, 111]\n",
    "Explanation: The output [11, 0, 11, 11] would also be accepted."
   ]
  },
  {
   "cell_type": "markdown",
   "metadata": {},
   "source": [
    "Note:\n",
    "\n",
    "1 <= S.length <= 200\n",
    "S contains only digits."
   ]
  },
  {
   "cell_type": "code",
   "execution_count": 1,
   "metadata": {
    "collapsed": true
   },
   "outputs": [],
   "source": [
    "class Solution(object):\n",
    "    def splitIntoFibonacci(self, S):\n",
    "        \"\"\"\n",
    "        :type S: str\n",
    "        :rtype: List[int]\n",
    "        \"\"\"\n",
    "        for i in xrange(len(S)/3+1):\n",
    "            x = S[:i+1]\n",
    "            print x,i\n",
    "            if x != '0' and x.startswith('0'):\n",
    "                break\n",
    "            a = int(x)\n",
    "            for j in xrange(i+1, i+len(S)/3*2):\n",
    "                y = S[i+1: j+1]\n",
    "                if y != '0' and y.startswith('0'):\n",
    "                    break\n",
    "                b = int(y)\n",
    "                fib = [a, b]\n",
    "                k = j + 1\n",
    "                while k < len(S):\n",
    "                    nxt = fib[-1] + fib[-2]\n",
    "                    nxtS = str(nxt)\n",
    "                    if nxt <= 2**31 - 1 and S[k:].startswith(nxtS):\n",
    "                        k += len(nxtS)\n",
    "                        fib.append(nxt)\n",
    "                    else:\n",
    "                        break\n",
    "                else:\n",
    "                    if len(fib) >= 3:\n",
    "                        return fib\n",
    "        return []"
   ]
  },
  {
   "cell_type": "code",
   "execution_count": null,
   "metadata": {
    "collapsed": true
   },
   "outputs": [],
   "source": []
  }
 ],
 "metadata": {
  "kernelspec": {
   "display_name": "Python 2",
   "language": "python",
   "name": "python2"
  },
  "language_info": {
   "codemirror_mode": {
    "name": "ipython",
    "version": 2
   },
   "file_extension": ".py",
   "mimetype": "text/x-python",
   "name": "python",
   "nbconvert_exporter": "python",
   "pygments_lexer": "ipython2",
   "version": "2.7.13"
  }
 },
 "nbformat": 4,
 "nbformat_minor": 2
}
