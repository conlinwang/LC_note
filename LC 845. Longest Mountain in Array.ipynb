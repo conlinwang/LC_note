{
 "cells": [
  {
   "cell_type": "markdown",
   "metadata": {},
   "source": [
    "# 845. Longest Mountain in Array"
   ]
  },
  {
   "cell_type": "code",
   "execution_count": null,
   "metadata": {
    "collapsed": true
   },
   "outputs": [],
   "source": [
    "Let's call any (contiguous) subarray B (of A) a mountain if the following properties hold:\n",
    "\n",
    "B.length >= 3\n",
    "There exists some 0 < i < B.length - 1 such that B[0] < B[1] < ... B[i-1] < B[i] > B[i+1] > ... > B[B.length - 1]\n",
    "(Note that B could be any subarray of A, including the entire array A.)\n",
    "\n",
    "Given an array A of integers, return the length of the longest mountain. \n",
    "\n",
    "Return 0 if there is no mountain."
   ]
  },
  {
   "cell_type": "markdown",
   "metadata": {},
   "source": [
    "__Example 1:__"
   ]
  },
  {
   "cell_type": "code",
   "execution_count": null,
   "metadata": {
    "collapsed": true
   },
   "outputs": [],
   "source": [
    "Input: [2,1,4,7,3,2,5]\n",
    "Output: 5\n",
    "Explanation: The largest mountain is [1,4,7,3,2] which has length 5."
   ]
  },
  {
   "cell_type": "markdown",
   "metadata": {},
   "source": [
    "__ Example 2: __"
   ]
  },
  {
   "cell_type": "code",
   "execution_count": null,
   "metadata": {
    "collapsed": true
   },
   "outputs": [],
   "source": [
    "Input: [2,2,2]\n",
    "Output: 0\n",
    "Explanation: There is no mountain."
   ]
  },
  {
   "cell_type": "markdown",
   "metadata": {},
   "source": [
    "__Note:__\n",
    "\n",
    "0 <= A.length <= 10000\n",
    "0 <= A[i] <= 10000\n",
    "\n",
    "__Follow up:__\n",
    "\n",
    "Can you solve it using only one pass?\n",
    "\n",
    "Can you solve it in __O(1)__ space?"
   ]
  },
  {
   "cell_type": "code",
   "execution_count": null,
   "metadata": {
    "collapsed": true
   },
   "outputs": [],
   "source": [
    "class Solution(object):\n",
    "    def longestMountain(self, A):\n",
    "        \"\"\"\n",
    "        :type A: List[int]\n",
    "        :rtype: int\n",
    "        \"\"\"\n",
    "        res = []\n",
    "        start = -1\n",
    "        end = len(A)\n",
    "        peak = 0\n",
    "        VnP = []\n",
    "        if len(A)<3:\n",
    "            return 0\n",
    "        for i in range(len(A)-1):\n",
    "            \n",
    "            if i == 0 and cmp(A[i+1],A[i]) == 1:\n",
    "                start = 0\n",
    "            \n",
    "            # print i, A[i],VnP \n",
    "            if i > 0 and (VnP[-1]<=0) and peak==0:\n",
    "                start = i\n",
    "                # print 'start=',start, VnP\n",
    "            if i > 0 and VnP[-1]==1 and start != -1 and cmp(A[i+1],A[i])== -1:\n",
    "                peak = i\n",
    "                # print 'peak=', peak\n",
    "            if i > 0 and VnP[-1]==-1 and peak != 0 and (cmp(A[i+1],A[i])>= 0):\n",
    "                # print 'hihi'\n",
    "                res.append(i+1-start)\n",
    "                peak = 0\n",
    "                start = -1\n",
    "                if cmp(A[i+1],A[i])>0:\n",
    "                    start = i\n",
    "            VnP.append(cmp(A[i+1],A[i]))\n",
    "            \n",
    "        if cmp(A[-1],A[-2])== -1 and peak != 0:\n",
    "            res.append(len(A)-start)\n",
    "        # print VnP, res\n",
    "        if len(res)>0:\n",
    "            return max(res)\n",
    "\n",
    "        return 0"
   ]
  }
 ],
 "metadata": {
  "kernelspec": {
   "display_name": "Python 2",
   "language": "python",
   "name": "python2"
  },
  "language_info": {
   "codemirror_mode": {
    "name": "ipython",
    "version": 2
   },
   "file_extension": ".py",
   "mimetype": "text/x-python",
   "name": "python",
   "nbconvert_exporter": "python",
   "pygments_lexer": "ipython2",
   "version": "2.7.13"
  }
 },
 "nbformat": 4,
 "nbformat_minor": 2
}
