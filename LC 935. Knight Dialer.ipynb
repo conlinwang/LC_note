{
 "cells": [
  {
   "cell_type": "markdown",
   "metadata": {},
   "source": [
    "# 935. Knight Dialer"
   ]
  },
  {
   "cell_type": "markdown",
   "metadata": {},
   "source": [
    "This time, we place our chess knight on any numbered key of a phone pad (indicated above), and the knight makes N-1 hops.  Each hop must be from one key to another numbered key.\n",
    "\n",
    "Each time it lands on a key (including the initial placement of the knight), it presses the number of that key, pressing N digits total.\n",
    "\n",
    "How many distinct numbers can you dial in this manner?\n",
    "\n",
    "Since the answer may be large, output the answer modulo 10^9 + 7."
   ]
  },
  {
   "cell_type": "code",
   "execution_count": 4,
   "metadata": {
    "collapsed": true
   },
   "outputs": [],
   "source": [
    "class Solution(object):\n",
    "    def knightDialer(self, N):\n",
    "        \"\"\"\n",
    "        :type N: int\n",
    "        :rtype: int\n",
    "        \"\"\"\n",
    "        if N == 1:\n",
    "            return 10\n",
    "        dp = [4,2,2,1]\n",
    "        for i in range(N-1):\n",
    "            temp = [0]*4\n",
    "            temp[0] = 2*(dp[1]+dp[2])\n",
    "            temp[1] = dp[0]\n",
    "            temp[2] = dp[0]+2*dp[3]\n",
    "            temp[3] = dp[2]\n",
    "            dp = temp[:]\n",
    "        return (dp[0]+dp[1]+dp[2]+dp[3])%(10**9 + 7)\n",
    "\n"
   ]
  },
  {
   "cell_type": "code",
   "execution_count": 6,
   "metadata": {
    "collapsed": false
   },
   "outputs": [
    {
     "name": "stdout",
     "output_type": "stream",
     "text": [
      "9\n",
      "10\n",
      "20\n",
      "46\n",
      "104\n",
      "240\n",
      "544\n",
      "1256\n",
      "2848\n",
      "6576\n",
      "14912\n",
      "34432\n",
      "78080\n",
      "180288\n",
      "408832\n",
      "944000\n",
      "2140672\n",
      "4942848\n",
      "11208704\n",
      "25881088\n",
      "58689536\n",
      "135515136\n",
      "307302400\n",
      "709566464\n",
      "609056249\n",
      "715338219\n",
      "425127880\n",
      "453763451\n",
      "114542284\n",
      "861227837\n",
      "986742198\n",
      "352313197\n",
      "462284017\n",
      "668967848\n",
      "826735324\n",
      "604554286\n",
      "111275855\n",
      "951454324\n",
      "360713855\n",
      "290508779\n",
      "719179703\n",
      "937235399\n",
      "872222784\n",
      "461377250\n",
      "356617878\n",
      "19321911\n",
      "650816146\n",
      "270422480\n",
      "478425350\n",
      "545247229\n",
      "267287516\n",
      "189793440\n",
      "690023703\n",
      "957771738\n",
      "70992133\n",
      "987456640\n",
      "665858007\n",
      "93652874\n",
      "711179489\n",
      "612090712\n",
      "603644899\n",
      "297932755\n",
      "777151438\n",
      "339233689\n",
      "248329018\n",
      "843671114\n",
      "381368370\n",
      "705091907\n",
      "294894141\n",
      "855866986\n",
      "243891366\n",
      "314834274\n",
      "283771632\n",
      "465537714\n",
      "727064328\n",
      "533889181\n",
      "227299419\n",
      "341184223\n",
      "455539216\n",
      "911548621\n",
      "824037613\n",
      "104554806\n",
      "122068793\n",
      "981134380\n",
      "436262327\n",
      "468587021\n",
      "129298776\n",
      "886984620\n",
      "30743355\n",
      "447559615\n",
      "667265033\n",
      "137419217\n",
      "880616757\n",
      "34276849\n",
      "614640396\n",
      "655984233\n",
      "165375348\n",
      "798797981\n",
      "533690518\n",
      "168850940\n"
     ]
    }
   ],
   "source": [
    "my_sol = Solution()\n",
    "for i in range(100):\n",
    "    print my_sol.knightDialer(i)"
   ]
  },
  {
   "cell_type": "code",
   "execution_count": null,
   "metadata": {
    "collapsed": true
   },
   "outputs": [],
   "source": []
  }
 ],
 "metadata": {
  "kernelspec": {
   "display_name": "Python 2",
   "language": "python",
   "name": "python2"
  },
  "language_info": {
   "codemirror_mode": {
    "name": "ipython",
    "version": 2
   },
   "file_extension": ".py",
   "mimetype": "text/x-python",
   "name": "python",
   "nbconvert_exporter": "python",
   "pygments_lexer": "ipython2",
   "version": "2.7.13"
  }
 },
 "nbformat": 4,
 "nbformat_minor": 2
}
