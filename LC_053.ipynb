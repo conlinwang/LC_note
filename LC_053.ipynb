{
 "cells": [
  {
   "cell_type": "code",
   "execution_count": 1,
   "metadata": {
    "collapsed": false
   },
   "outputs": [
    {
     "name": "stdout",
     "output_type": "stream",
     "text": [
      "11\n"
     ]
    }
   ],
   "source": [
    "#use brute-force solution\n",
    "class Solution(object):\n",
    "    def maxSubArray(self, nums):\n",
    "        \"\"\"\n",
    "        :type nums: List[int]\n",
    "        :rtype: int\n",
    "        \"\"\"\n",
    "        max_sum  = 0\n",
    "        temp_sum = 0\n",
    "\n",
    "        for sum_len in range(0, len(nums), 1):\n",
    "        \tfor start_index in range(0, len(nums)-sum_len, 1):\n",
    "        \t\ttemp_sum = 0\n",
    "        \t\tfor sum_index in range(start_index, start_index+sum_len+1, 1):\n",
    "        \t\t\ttemp_sum += nums[sum_index]\n",
    "        \t\tif(temp_sum > max_sum):\n",
    "        \t\t\tmax_sum = temp_sum\n",
    "        return max_sum\n",
    "        \n",
    "my_Solution = Solution()\n",
    "\n",
    "print my_Solution.maxSubArray([2, -7, 4, -3, 6, 4, -4, 1, -5, 0])"
   ]
  },
  {
   "cell_type": "code",
   "execution_count": null,
   "metadata": {
    "collapsed": true
   },
   "outputs": [],
   "source": []
  }
 ],
 "metadata": {
  "kernelspec": {
   "display_name": "Python 2",
   "language": "python",
   "name": "python2"
  },
  "language_info": {
   "codemirror_mode": {
    "name": "ipython",
    "version": 2
   },
   "file_extension": ".py",
   "mimetype": "text/x-python",
   "name": "python",
   "nbconvert_exporter": "python",
   "pygments_lexer": "ipython2",
   "version": "2.7.13"
  }
 },
 "nbformat": 4,
 "nbformat_minor": 2
}
