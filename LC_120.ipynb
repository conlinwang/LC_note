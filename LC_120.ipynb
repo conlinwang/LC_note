{
 "cells": [
  {
   "cell_type": "code",
   "execution_count": 1,
   "metadata": {
    "collapsed": false
   },
   "outputs": [
    {
     "name": "stdout",
     "output_type": "stream",
     "text": [
      "11\n"
     ]
    },
    {
     "data": {
      "text/plain": [
       "'\\n43 / 43 test cases passed.\\nStatus: Accepted\\nRuntime: 45 ms\\n94.58%\\n'"
      ]
     },
     "execution_count": 1,
     "metadata": {},
     "output_type": "execute_result"
    }
   ],
   "source": [
    "#bottom-up solution use the given triangle\n",
    "class Solution(object):\n",
    "    def minimumTotal(self, triangle):\n",
    "        \"\"\"\n",
    "        :type triangle: List[List[int]]\n",
    "        :rtype: int\n",
    "        \"\"\"\n",
    "        if not triangle:\n",
    "        \treturn \n",
    "        for i in xrange(len(triangle)-2, -1, -1):\n",
    "        \tfor j in xrange(len(triangle[i])):\n",
    "        \t\ttriangle[i][j] += min(triangle[i+1][j], triangle[i+1][j+1])\n",
    "        return triangle[0][0]\n",
    "        \n",
    "my_Solution = Solution()\n",
    "A = [\n",
    "[2],\n",
    "[3,4],\n",
    "[6,5,7],\n",
    "[4,1,8,3]\n",
    "]\n",
    "print my_Solution.minimumTotal(A)\n",
    "\n",
    "'''\n",
    "43 / 43 test cases passed.\n",
    "Status: Accepted\n",
    "Runtime: 45 ms\n",
    "94.58%\n",
    "'''"
   ]
  },
  {
   "cell_type": "markdown",
   "metadata": {},
   "source": [
    "Note:\n",
    "Bonus point if you are able to do this using only O(n) extra space, where n is the total number of rows in the triangle."
   ]
  },
  {
   "cell_type": "code",
   "execution_count": 2,
   "metadata": {
    "collapsed": false
   },
   "outputs": [
    {
     "name": "stdout",
     "output_type": "stream",
     "text": [
      "11\n"
     ]
    }
   ],
   "source": [
    "#bottom-up solution use the given triangle\n",
    "# bottom-up, O(n) space\n",
    "def minimumTotal(self, triangle):\n",
    "    if not triangle:\n",
    "        return \n",
    "    res = triangle[-1]\n",
    "    for i in xrange(len(triangle)-2, -1, -1):\n",
    "        for j in xrange(len(triangle[i])):\n",
    "            res[j] = min(res[j], res[j+1]) + triangle[i][j]\n",
    "    return res[0]\n",
    "\n",
    "my_Solution = Solution()\n",
    "A = [\n",
    "[2],\n",
    "[3,4],\n",
    "[6,5,7],\n",
    "[4,1,8,3]\n",
    "]\n",
    "print my_Solution.minimumTotal(A)"
   ]
  },
  {
   "cell_type": "code",
   "execution_count": null,
   "metadata": {
    "collapsed": true
   },
   "outputs": [],
   "source": []
  }
 ],
 "metadata": {
  "kernelspec": {
   "display_name": "Python 2",
   "language": "python",
   "name": "python2"
  },
  "language_info": {
   "codemirror_mode": {
    "name": "ipython",
    "version": 2
   },
   "file_extension": ".py",
   "mimetype": "text/x-python",
   "name": "python",
   "nbconvert_exporter": "python",
   "pygments_lexer": "ipython2",
   "version": "2.7.13"
  }
 },
 "nbformat": 4,
 "nbformat_minor": 2
}
