{
 "cells": [
  {
   "cell_type": "markdown",
   "metadata": {},
   "source": [
    "# 209. Minimum Size Subarray Sum"
   ]
  },
  {
   "cell_type": "markdown",
   "metadata": {},
   "source": [
    "Given an array of n positive integers and a positive integer s, find the minimal length of a contiguous subarray of which the sum ≥ s. If there isn't one, return 0 instead.\n",
    "\n",
    "For example, given the array [2,3,1,2,4,3] and s = 7,\n",
    "the subarray [4,3] has the minimal length under the problem constraint."
   ]
  },
  {
   "cell_type": "code",
   "execution_count": 1,
   "metadata": {
    "collapsed": true
   },
   "outputs": [],
   "source": [
    "class Solution:\n",
    "    \n",
    "    def minSubArrayLen(self, s, nums):\n",
    "        size = len(nums)\n",
    "        start, end, num_sum = 0, 0, 0\n",
    "        bestAns = size + 1\n",
    "        \n",
    "        while True:\n",
    "            if num_sum < s:\n",
    "                if end >= size:\n",
    "                    break\n",
    "                num_sum += nums[end]\n",
    "                end += 1\n",
    "            else:\n",
    "                if start > end:\n",
    "                    break\n",
    "                bestAns = min(end - start, bestAns)\n",
    "                num_sum -= nums[start]\n",
    "                start += 1\n",
    "        if bestAns <= size:\n",
    "            return bestAns\n",
    "        else:\n",
    "            return 0"
   ]
  },
  {
   "cell_type": "code",
   "execution_count": null,
   "metadata": {
    "collapsed": true
   },
   "outputs": [],
   "source": []
  }
 ],
 "metadata": {
  "kernelspec": {
   "display_name": "Python 2",
   "language": "python",
   "name": "python2"
  },
  "language_info": {
   "codemirror_mode": {
    "name": "ipython",
    "version": 2
   },
   "file_extension": ".py",
   "mimetype": "text/x-python",
   "name": "python",
   "nbconvert_exporter": "python",
   "pygments_lexer": "ipython2",
   "version": "2.7.13"
  }
 },
 "nbformat": 4,
 "nbformat_minor": 2
}
