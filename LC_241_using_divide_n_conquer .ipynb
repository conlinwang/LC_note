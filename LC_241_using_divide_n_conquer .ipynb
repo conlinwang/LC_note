{
 "cells": [
  {
   "cell_type": "code",
   "execution_count": 1,
   "metadata": {
    "collapsed": false
   },
   "outputs": [
    {
     "name": "stdout",
     "output_type": "stream",
     "text": [
      "[-34, -10, -14, -10, 10]\n",
      "[2]\n",
      "[-33, -28, -33, -18, -18]\n"
     ]
    }
   ],
   "source": [
    "# LC_241.py  Different Ways to Add Parentheses\n",
    "'''\n",
    "25 / 25 test cases passed.\n",
    "Status: Accepted\n",
    "Runtime: 176 ms\n",
    "'''\n",
    "class Solution(object):\n",
    "    def diffWaysToCompute(self, input):\n",
    "        \"\"\"\n",
    "        :type input: str\n",
    "        :rtype: List[int]\n",
    "        \"\"\"\n",
    "        if input.isdigit():\n",
    "            return [int(input)]\n",
    "        result = []\n",
    "        for i, c in enumerate(input):\n",
    "            if c in '+-*':\n",
    "                left = self.diffWaysToCompute(input[:i])\n",
    "                right = self.diffWaysToCompute(input[i+1:])\n",
    "                for l in left:\n",
    "                    for r in right:\n",
    "                        result.append(eval(str(l) + c + str(r)))\n",
    "        return result\n",
    "\n",
    "my_Solution = Solution()\n",
    "print my_Solution.diffWaysToCompute(\"2*3-4*5\")        \n",
    "print my_Solution.diffWaysToCompute(\"2\")\n",
    "print my_Solution.diffWaysToCompute(\"2+1-6*6\")"
   ]
  },
  {
   "cell_type": "markdown",
   "metadata": {},
   "source": [
    "# special function\n",
    "## str.isdigit()"
   ]
  },
  {
   "cell_type": "code",
   "execution_count": 2,
   "metadata": {
    "collapsed": false
   },
   "outputs": [
    {
     "name": "stdout",
     "output_type": "stream",
     "text": [
      "True\n",
      "False\n"
     ]
    }
   ],
   "source": [
    "# .isdigit\n",
    "# Syntax: str.isdigit()\n",
    "str = \"123456\";  # Only digit in this string\n",
    "print str.isdigit()\n",
    "\n",
    "str = \"this is string example....wow!!!\";\n",
    "print str.isdigit()\n"
   ]
  },
  {
   "cell_type": "markdown",
   "metadata": {},
   "source": [
    "## Enumerate"
   ]
  },
  {
   "cell_type": "code",
   "execution_count": 3,
   "metadata": {
    "collapsed": false
   },
   "outputs": [
    {
     "name": "stdout",
     "output_type": "stream",
     "text": [
      "(0, 'apple')\n",
      "(1, 'banana')\n",
      "(2, 'grapes')\n",
      "(3, 'pear')\n"
     ]
    }
   ],
   "source": [
    "my_list = ['apple', 'banana', 'grapes', 'pear']\n",
    "for c, value in enumerate(my_list):\n",
    "    print(c, value)"
   ]
  },
  {
   "cell_type": "code",
   "execution_count": 5,
   "metadata": {
    "collapsed": false
   },
   "outputs": [
    {
     "name": "stdout",
     "output_type": "stream",
     "text": [
      "[(1, 'apple'), (2, 'banana'), (3, 'grapes'), (4, 'pear')]\n"
     ]
    }
   ],
   "source": [
    "my_list = ['apple', 'banana', 'grapes', 'pear']\n",
    "counter_list = list(enumerate(my_list, start=1)) # mind the enumerate(my_list, 1) ,1 here\n",
    "print(counter_list)\n",
    "# Output: [(1, 'apple'), (2, 'banana'), (3, 'grapes'), (4, 'pear')]"
   ]
  },
  {
   "cell_type": "markdown",
   "metadata": {},
   "source": [
    "## eval(expression[, globals[, locals]])"
   ]
  },
  {
   "cell_type": "code",
   "execution_count": 6,
   "metadata": {
    "collapsed": false
   },
   "outputs": [
    {
     "name": "stdout",
     "output_type": "stream",
     "text": [
      "2\n"
     ]
    }
   ],
   "source": [
    "x = 1\n",
    "print eval('x+1')"
   ]
  },
  {
   "cell_type": "code",
   "execution_count": 15,
   "metadata": {
    "collapsed": false
   },
   "outputs": [
    {
     "data": {
      "text/plain": [
       "55"
      ]
     },
     "execution_count": 15,
     "metadata": {},
     "output_type": "execute_result"
    }
   ],
   "source": [
    "eval(\"33 + 22\")"
   ]
  },
  {
   "cell_type": "code",
   "execution_count": 16,
   "metadata": {
    "collapsed": false
   },
   "outputs": [
    {
     "data": {
      "text/plain": [
       "7"
      ]
     },
     "execution_count": 16,
     "metadata": {},
     "output_type": "execute_result"
    }
   ],
   "source": [
    "eval(\"66 / 9\")"
   ]
  },
  {
   "cell_type": "code",
   "execution_count": null,
   "metadata": {
    "collapsed": true
   },
   "outputs": [],
   "source": []
  }
 ],
 "metadata": {
  "kernelspec": {
   "display_name": "Python 2",
   "language": "python",
   "name": "python2"
  },
  "language_info": {
   "codemirror_mode": {
    "name": "ipython",
    "version": 2
   },
   "file_extension": ".py",
   "mimetype": "text/x-python",
   "name": "python",
   "nbconvert_exporter": "python",
   "pygments_lexer": "ipython2",
   "version": "2.7.13"
  }
 },
 "nbformat": 4,
 "nbformat_minor": 2
}
