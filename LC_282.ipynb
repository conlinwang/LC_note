{
 "cells": [
  {
   "cell_type": "code",
   "execution_count": 1,
   "metadata": {
    "collapsed": false
   },
   "outputs": [
    {
     "name": "stdout",
     "output_type": "stream",
     "text": [
      "['1+2+3', '1*2*3']\n",
      "['2+3*2', '2*3+2']\n",
      "['1*0+5', '10-5']\n",
      "['0+0', '0-0', '0*0']\n",
      "[]\n"
     ]
    }
   ],
   "source": [
    "\"\"\"\n",
    "\"\"\"\n",
    "class Solution(object):\n",
    "    def addOperators(self, num, target):\n",
    "        \"\"\"\n",
    "        :type num: str\n",
    "        :type target: int\n",
    "        :rtype: List[str]\n",
    "        \"\"\"\n",
    "        expres = []\n",
    "        self.target = target\n",
    "        for index in range(1,len(num)):\n",
    "            self.dfs(num[:index], num[index:], int(num[:index]), int(num[:index]), expres, [])\n",
    "\n",
    "        return expres\n",
    "    \n",
    "    def dfs(self, num, temp, cur, last, res, cur_exp):\n",
    "        calculation = '+-*'\n",
    "        for index in range(0, 3):\n",
    "            if(len(cur_exp) == 0):\n",
    "                cur = eval(num+calculation[index]+temp)\n",
    "                if( cur == self.target):\n",
    "                    if(int(temp[0]) != 0):\n",
    "                        res.append(num+calculation[index]+temp)\n",
    "                    elif(len(temp) == 1):\n",
    "                        res.append(num+calculation[index]+temp)\n",
    "            else:\n",
    "                cur = eval(cur_exp+num+calculation[index]+temp)\n",
    "                if( cur == self.target):\n",
    "                    res.append(cur_exp+num+calculation[index]+temp)\n",
    "            for i in range(1,len(temp)):\n",
    "                self.dfs(temp[:i], temp[i:], int(temp[:i]), int(temp[:i]), res, num+calculation[index])\n",
    "\n",
    "my_Solution = Solution()\n",
    "print my_Solution.addOperators('123',6)\n",
    "print my_Solution.addOperators(\"232\",8)\n",
    "print my_Solution.addOperators(\"105\",5)\n",
    "print my_Solution.addOperators(\"00\",0)\n",
    "print my_Solution.addOperators(\"3456237490\",9191)"
   ]
  },
  {
   "cell_type": "code",
   "execution_count": null,
   "metadata": {
    "collapsed": true
   },
   "outputs": [],
   "source": []
  }
 ],
 "metadata": {
  "kernelspec": {
   "display_name": "Python 2",
   "language": "python",
   "name": "python2"
  },
  "language_info": {
   "codemirror_mode": {
    "name": "ipython",
    "version": 2
   },
   "file_extension": ".py",
   "mimetype": "text/x-python",
   "name": "python",
   "nbconvert_exporter": "python",
   "pygments_lexer": "ipython2",
   "version": "2.7.13"
  }
 },
 "nbformat": 4,
 "nbformat_minor": 2
}
