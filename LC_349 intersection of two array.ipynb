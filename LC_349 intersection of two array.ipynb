{
 "cells": [
  {
   "cell_type": "markdown",
   "metadata": {},
   "source": [
    "## LeetCode 349. Intersection of Two Arrays\n",
    "Given two arrays, write a function to compute their intersection.\n",
    "\n",
    "### Example:\n",
    "Given nums1 = [1, 2, 2, 1], nums2 = [2, 2], return [2].\n",
    "\n",
    "__Note:__\n",
    "Each element in the result must be unique.\n",
    "The result can be in any order."
   ]
  },
  {
   "cell_type": "code",
   "execution_count": 2,
   "metadata": {
    "collapsed": false
   },
   "outputs": [
    {
     "name": "stdout",
     "output_type": "stream",
     "text": [
      "[2]\n"
     ]
    }
   ],
   "source": [
    "class Solution(object):\n",
    "    def intersection(self, nums1, nums2):\n",
    "        \"\"\"\n",
    "        :type nums1: List[int]\n",
    "        :type nums2: List[int]\n",
    "        :rtype: List[int]\n",
    "        \"\"\"\n",
    "        result = []\n",
    "        if len(nums1) == 0 or len(nums2) == 0:\n",
    "            return result\n",
    "        if len(nums1) >= len(nums2):\n",
    "            long_array = nums1\n",
    "            short_array = nums2\n",
    "        else:\n",
    "            long_array = nums2\n",
    "            short_array = nums1\n",
    "        for i in range(0, len(short_array)):\n",
    "            if short_array[i] in long_array:\n",
    "                if short_array[i] not in result:\n",
    "                    result.append(short_array[i])\n",
    "        return result\n",
    "\n",
    "my_Solution = Solution()\n",
    "print my_Solution.intersection([1, 2, 2, 1],[2, 2])\n",
    "\n",
    "# beat 15.8%"
   ]
  },
  {
   "cell_type": "markdown",
   "metadata": {},
   "source": [
    "## For python users:\n"
   ]
  },
  {
   "cell_type": "code",
   "execution_count": 3,
   "metadata": {
    "collapsed": true
   },
   "outputs": [],
   "source": [
    "class Solution(object):\n",
    "    def intersection(self, nums1, nums2):\n",
    "        \"\"\"\n",
    "        :type nums1: List[int]\n",
    "        :type nums2: List[int]\n",
    "        :rtype: List[int]\n",
    "        \"\"\"\n",
    "        nums1=set(nums1)\n",
    "        nums2=set(nums2)\n",
    "        return list(nums1&nums2)\n",
    "# 58%    "
   ]
  },
  {
   "cell_type": "markdown",
   "metadata": {},
   "source": [
    "ref on the Java solution"
   ]
  },
  {
   "cell_type": "markdown",
   "metadata": {},
   "source": [
    "## 350. Intersection of Two Arrays II\n",
    "Given two arrays, write a function to compute their intersection.\n",
    "\n",
    "__Example:__\n",
    "Given nums1 = [1, 2, 2, 1], nums2 = [2, 2], return [2, 2].\n",
    "\n",
    "__Note:__\n",
    "Each element in the result should appear as many times as it shows in both arrays.\n",
    "The result can be in any order.\n",
    "__Follow up:__\n",
    "What if the given array is already sorted? How would you optimize your algorithm?\n",
    "What if nums1's size is small compared to nums2's size? Which algorithm is better?\n",
    "What if elements of nums2 are stored on disk, and the memory is limited such that you cannot load all elements into the memory at once?"
   ]
  },
  {
   "cell_type": "code",
   "execution_count": 5,
   "metadata": {
    "collapsed": false
   },
   "outputs": [
    {
     "name": "stdout",
     "output_type": "stream",
     "text": [
      "[2, 2]\n"
     ]
    }
   ],
   "source": [
    "class Solution(object):\n",
    "    def intersection(self, nums1, nums2):\n",
    "        \"\"\"\n",
    "        :type nums1: List[int]\n",
    "        :type nums2: List[int]\n",
    "        :rtype: List[int]\n",
    "        \"\"\"\n",
    "        result = []\n",
    "        if len(nums1) == 0 or len(nums2) == 0:\n",
    "            return result\n",
    "        if len(nums1) >= len(nums2):\n",
    "            long_array = nums1\n",
    "            short_array = nums2\n",
    "        else:\n",
    "            long_array = nums2\n",
    "            short_array = nums1\n",
    "        for i in range(0, len(short_array)):\n",
    "            if short_array[i] in long_array:\n",
    "                result.append(short_array[i])\n",
    "                long_array.remove(short_array[i])\n",
    "        return result\n",
    "\n",
    "\n",
    "my_Solution = Solution()\n",
    "print my_Solution.intersection([1, 2, 2, 1],[2, 2])\n",
    "\n",
    "#13.9%"
   ]
  },
  {
   "cell_type": "code",
   "execution_count": 6,
   "metadata": {
    "collapsed": false
   },
   "outputs": [
    {
     "name": "stdout",
     "output_type": "stream",
     "text": [
      "[2, 2]\n"
     ]
    }
   ],
   "source": [
    "def intersect(self, nums1, nums2):\n",
    "    a, b = map(collections.Counter, (nums1, nums2))\n",
    "    return list((a & b).elements())\n",
    "my_Solution = Solution()\n",
    "print my_Solution.intersection([1, 2, 2, 1],[2, 2])"
   ]
  },
  {
   "cell_type": "code",
   "execution_count": null,
   "metadata": {
    "collapsed": true
   },
   "outputs": [],
   "source": []
  }
 ],
 "metadata": {
  "kernelspec": {
   "display_name": "Python 2",
   "language": "python",
   "name": "python2"
  },
  "language_info": {
   "codemirror_mode": {
    "name": "ipython",
    "version": 2
   },
   "file_extension": ".py",
   "mimetype": "text/x-python",
   "name": "python",
   "nbconvert_exporter": "python",
   "pygments_lexer": "ipython2",
   "version": "2.7.13"
  }
 },
 "nbformat": 4,
 "nbformat_minor": 2
}
