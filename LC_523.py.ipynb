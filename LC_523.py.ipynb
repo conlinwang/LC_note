{
 "cells": [
  {
   "cell_type": "markdown",
   "metadata": {},
   "source": [
    "Given a list of non-negative numbers and a target integer k, write a function to check if the array has a continuous subarray of size at least 2 that sums up to the multiple of k, that is, sums up to n*k where n is also an integer.\n",
    "\n"
   ]
  },
  {
   "cell_type": "markdown",
   "metadata": {},
   "source": [
    "### Example 1:"
   ]
  },
  {
   "cell_type": "code",
   "execution_count": null,
   "metadata": {
    "collapsed": true
   },
   "outputs": [],
   "source": [
    "Input: [23, 2, 4, 6, 7],  k=6\n",
    "Output: True\n",
    "Explanation: Because [2, 4] is a continuous subarray of size 2 and sums up to 6."
   ]
  },
  {
   "cell_type": "markdown",
   "metadata": {},
   "source": [
    "### Example 2:"
   ]
  },
  {
   "cell_type": "code",
   "execution_count": null,
   "metadata": {
    "collapsed": true
   },
   "outputs": [],
   "source": [
    "Input: [23, 2, 6, 4, 7],  k=6\n",
    "Output: True\n",
    "Explanation: Because [23, 2, 6, 4, 7] is an continuous subarray of size 5 and sums up to 42."
   ]
  },
  {
   "cell_type": "markdown",
   "metadata": {},
   "source": [
    "#### Note:\n",
    "The length of the array won't exceed 10,000.\n",
    "You may assume the sum of all the numbers is in the range of a signed 32-bit integer."
   ]
  },
  {
   "cell_type": "code",
   "execution_count": 6,
   "metadata": {
    "collapsed": false
   },
   "outputs": [
    {
     "name": "stdout",
     "output_type": "stream",
     "text": [
      "False\n",
      "True\n",
      "True\n",
      "True\n",
      "True\n"
     ]
    }
   ],
   "source": [
    "class Solution(object):\n",
    "    def checkSubarraySum(self, nums, k):\n",
    "        \"\"\"\n",
    "        :type nums: List[int]\n",
    "        :type k: int\n",
    "        :rtype: bool\n",
    "        \"\"\"\n",
    "        Running_Sum = 0\n",
    "        Running_Sum_list =[]\n",
    "        # 1. if len is < 2 \n",
    "        if len(nums) < 2:\n",
    "            return False\n",
    "        # 2. if k == 0 find to cont. 0s\n",
    "        if(k == 0):\n",
    "            for i in range(0, len(nums) - 1):\n",
    "                if nums[i] == 0 and nums[i+1] == 0:\n",
    "                    return True\n",
    "            return False\n",
    "        # 3. find same mod in Running Sum History\n",
    "        # note for len == 2 and other special cases\n",
    "        else:\n",
    "            for i in range(0, len(nums)):\n",
    "                Running_Sum += nums[i]\n",
    "                if (Running_Sum % k in Running_Sum_list or (Running_Sum == k and i > 0) ):\n",
    "                    return True\n",
    "\n",
    "                Running_Sum_list.append(Running_Sum % k)\n",
    "        return False\n",
    "\n",
    "my_Solution = Solution()\n",
    "print my_Solution.checkSubarraySum([5,2,4],  5)\n",
    "print my_Solution.checkSubarraySum([1,1],  2)\n",
    "print my_Solution.checkSubarraySum([1,1,1],  3)\n",
    "print my_Solution.checkSubarraySum([23, 2, 4, 6, 7], 6) # given Example \n",
    "print my_Solution.checkSubarraySum([23, 2, 6, 4, 7], 6) # given Example\n",
    "\n"
   ]
  },
  {
   "cell_type": "code",
   "execution_count": null,
   "metadata": {
    "collapsed": true
   },
   "outputs": [],
   "source": []
  }
 ],
 "metadata": {
  "kernelspec": {
   "display_name": "Python 2",
   "language": "python",
   "name": "python2"
  },
  "language_info": {
   "codemirror_mode": {
    "name": "ipython",
    "version": 2
   },
   "file_extension": ".py",
   "mimetype": "text/x-python",
   "name": "python",
   "nbconvert_exporter": "python",
   "pygments_lexer": "ipython2",
   "version": "2.7.13"
  }
 },
 "nbformat": 4,
 "nbformat_minor": 2
}
