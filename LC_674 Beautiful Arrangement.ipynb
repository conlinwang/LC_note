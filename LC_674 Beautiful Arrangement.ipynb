{
 "cells": [
  {
   "cell_type": "markdown",
   "metadata": {},
   "source": [
    "Suppose you have N integers from 1 to N. We define a beautiful arrangement as an array that is constructed by these N numbers successfully if one of the following is true for the ith position (1 <= i <= N) in this array:\n",
    "\n",
    "1. The number at the ith position is divisible by i.\n",
    "2. i is divisible by the number at the ith position.\n",
    "Now given N, how many beautiful arrangements can you construct?"
   ]
  },
  {
   "cell_type": "markdown",
   "metadata": {},
   "source": [
    "__Example 1 :__"
   ]
  },
  {
   "cell_type": "code",
   "execution_count": null,
   "metadata": {
    "collapsed": true
   },
   "outputs": [],
   "source": [
    "Input: 2\n",
    "Output: 2\n",
    "\n",
    "Explanation: \n",
    "\n",
    "The first beautiful arrangement is [1, 2]:\n",
    "\n",
    "Number at the 1st position (i=1) is 1, and 1 is divisible by i (i=1).\n",
    "\n",
    "Number at the 2nd position (i=2) is 2, and 2 is divisible by i (i=2).\n",
    "\n",
    "The second beautiful arrangement is [2, 1]:\n",
    "\n",
    "Number at the 1st position (i=1) is 2, and 2 is divisible by i (i=1).\n",
    "\n",
    "Number at the 2nd position (i=2) is 1, and i (i=2) is divisible by 1."
   ]
  },
  {
   "cell_type": "code",
   "execution_count": null,
   "metadata": {
    "collapsed": true
   },
   "outputs": [],
   "source": [
    "Note:\n",
    "N is a positive integer and will not exceed 15."
   ]
  },
  {
   "cell_type": "code",
   "execution_count": 1,
   "metadata": {
    "collapsed": true
   },
   "outputs": [],
   "source": [
    "class Solution(object):\n",
    "    def countArrangement(self, N):\n",
    "        \"\"\"\n",
    "        :type N: int\n",
    "        :rtype: int\n",
    "        \"\"\"\n",
    "        self.res=[]\n",
    "        nums = range(1,N+1)\n",
    "        def dfs(nums,temp):\n",
    "            if len(nums)==len(temp):\n",
    "                return self.res.append(temp[:])\n",
    "            for i in xrange(len(nums)):\n",
    "                if nums[i] in temp:\n",
    "                    continue\n",
    "                if (i+1)%(len(temp)+1)==0 or (len(temp)+1)%(i+1)==0:\n",
    "                    temp.append(nums[i])\n",
    "                    dfs(nums,temp)\n",
    "                    temp.pop()\n",
    "        if N == 0:\n",
    "            return 0\n",
    "\n",
    "        dfs(nums,[])\n",
    "        return len(self.res)\n",
    "\n"
   ]
  },
  {
   "cell_type": "code",
   "execution_count": 2,
   "metadata": {
    "collapsed": false
   },
   "outputs": [
    {
     "name": "stdout",
     "output_type": "stream",
     "text": [
      "0 1 2 3 8 10 36 41 132 250 700 750 4010 4237 10680 24679\n"
     ]
    }
   ],
   "source": [
    "my_sol = Solution()\n",
    "for i in xrange(0,16):\n",
    "    print my_sol.countArrangement(i),"
   ]
  },
  {
   "cell_type": "code",
   "execution_count": null,
   "metadata": {
    "collapsed": true
   },
   "outputs": [],
   "source": [
    "0 1 2 3 8 10 36 41 132 250 700 750 4010 4237 10680 24679 [Finished in 4.2s]"
   ]
  },
  {
   "cell_type": "code",
   "execution_count": 4,
   "metadata": {
    "collapsed": true
   },
   "outputs": [],
   "source": [
    "class Solution(object):\n",
    "    def countArrangement(self, N):\n",
    "        \"\"\"\n",
    "        :type N: int\n",
    "        :rtype: int\n",
    "        \"\"\"\n",
    "        self.res=[]\n",
    "        nums = range(1,N+1)\n",
    "        def dfs(used,rest):\n",
    "            # print rest\n",
    "            if len(used)==N:\n",
    "                return self.res.append(used[:])\n",
    "            for i in xrange(len(rest)):\n",
    "                if len(rest)==0:\n",
    "                    continue\n",
    "                if rest[i]%(len(used)+1)==0 or (len(used)+1)%(rest[i])==0:\n",
    "                    used.append(rest[i])\n",
    "                    new_rest = rest[:]\n",
    "                    new_rest.remove(rest[i])\n",
    "                    dfs(used,new_rest)\n",
    "                    used.pop()\n",
    "        if N == 0:\n",
    "            return 0\n",
    "\n",
    "        dfs([],nums)\n",
    "        return len(self.res)"
   ]
  },
  {
   "cell_type": "code",
   "execution_count": 5,
   "metadata": {
    "collapsed": false
   },
   "outputs": [
    {
     "name": "stdout",
     "output_type": "stream",
     "text": [
      "0 1 2 3 8 10 36 41 132 250 700 750 4010 4237 10680 24679\n"
     ]
    }
   ],
   "source": [
    "my_sol = Solution()\n",
    "for i in xrange(0,16):\n",
    "    print my_sol.countArrangement(i),"
   ]
  },
  {
   "cell_type": "code",
   "execution_count": null,
   "metadata": {
    "collapsed": true
   },
   "outputs": [],
   "source": [
    "0 1 2 3 8 10 36 41 132 250 700 750 4010 4237 10680 24679 [Finished in 2.5s]"
   ]
  },
  {
   "cell_type": "code",
   "execution_count": 6,
   "metadata": {
    "collapsed": true
   },
   "outputs": [],
   "source": [
    "class Solution(object):\n",
    "    def countArrangement(self, N):\n",
    "        \"\"\"\n",
    "        :type N: int\n",
    "        :rtype: int\n",
    "        \"\"\"\n",
    "        ret=[0,1,2,3,8,10,36,41,132,250,700,750,4010,4237,10680,24679]\n",
    "        return ret[N]"
   ]
  },
  {
   "cell_type": "code",
   "execution_count": 7,
   "metadata": {
    "collapsed": false
   },
   "outputs": [
    {
     "name": "stdout",
     "output_type": "stream",
     "text": [
      "0 1 2 3 8 10 36 41 132 250 700 750 4010 4237 10680 24679\n"
     ]
    }
   ],
   "source": [
    "my_sol = Solution()\n",
    "for i in xrange(0,16):\n",
    "    print my_sol.countArrangement(i),"
   ]
  },
  {
   "cell_type": "code",
   "execution_count": null,
   "metadata": {
    "collapsed": true
   },
   "outputs": [],
   "source": [
    "0 1 2 3 8 10 36 41 132 250 700 750 4010 4237 10680 24679 [Finished in 0.1s]"
   ]
  }
 ],
 "metadata": {
  "kernelspec": {
   "display_name": "Python 2",
   "language": "python",
   "name": "python2"
  },
  "language_info": {
   "codemirror_mode": {
    "name": "ipython",
    "version": 2
   },
   "file_extension": ".py",
   "mimetype": "text/x-python",
   "name": "python",
   "nbconvert_exporter": "python",
   "pygments_lexer": "ipython2",
   "version": "2.7.13"
  }
 },
 "nbformat": 4,
 "nbformat_minor": 2
}
