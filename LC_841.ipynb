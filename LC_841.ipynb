{
 "cells": [
  {
   "cell_type": "markdown",
   "metadata": {},
   "source": [
    "# 841. Keys and Rooms"
   ]
  },
  {
   "cell_type": "markdown",
   "metadata": {},
   "source": [
    "There are N rooms and you start in room 0.  Each room has a distinct number in 0, 1, 2, ..., N-1, and each room may have some keys to access the next room. \n",
    "\n",
    "Formally, each room i has a list of keys rooms[i], and each key rooms[i][j] is an integer in [0, 1, ..., N-1] where N = rooms.length.  A key rooms[i][j] = v opens the room with number v.\n",
    "\n",
    "Initially, all the rooms start locked (except for room 0). \n",
    "\n",
    "You can walk back and forth between rooms freely.\n",
    "\n",
    "Return true if and only if you can enter every room."
   ]
  },
  {
   "cell_type": "markdown",
   "metadata": {},
   "source": [
    "__Example 1:__"
   ]
  },
  {
   "cell_type": "code",
   "execution_count": null,
   "metadata": {
    "collapsed": true
   },
   "outputs": [],
   "source": [
    "Input: [[1],[2],[3],[]]\n",
    "Output: true\n",
    "Explanation:  \n",
    "We start in room 0, and pick up key 1.\n",
    "We then go to room 1, and pick up key 2.\n",
    "We then go to room 2, and pick up key 3.\n",
    "We then go to room 3.  Since we were able to go to every room, we return true."
   ]
  },
  {
   "cell_type": "markdown",
   "metadata": {},
   "source": [
    "__Example 2:__"
   ]
  },
  {
   "cell_type": "code",
   "execution_count": null,
   "metadata": {
    "collapsed": true
   },
   "outputs": [],
   "source": [
    "Input: [[1,3],[3,0,1],[2],[0]]\n",
    "Output: false\n",
    "Explanation: We can't enter the room with number 2."
   ]
  },
  {
   "cell_type": "markdown",
   "metadata": {},
   "source": [
    "Note:\n",
    "\n",
    "1 <= rooms.length <= 1000\n",
    "0 <= rooms[i].length <= 1000\n",
    "The number of keys in all rooms combined is at most 3000."
   ]
  },
  {
   "cell_type": "code",
   "execution_count": null,
   "metadata": {
    "collapsed": true
   },
   "outputs": [],
   "source": [
    "class Solution(object):\n",
    "    def canVisitAllRooms(self, rooms):\n",
    "        \"\"\"\n",
    "        :type rooms: List[List[int]]\n",
    "        :rtype: bool\n",
    "        \"\"\"\n",
    "        visited = [0]\n",
    "        stack = [0]\n",
    "        while stack :\n",
    "        \tnode = stack.pop()\n",
    "        \tprint node\n",
    "        \tfor i in rooms[node]:\n",
    "        \t\tif i not in visited:\n",
    "        \t\t\tvisited.append(i)\n",
    "        \t\t\tstack.append(i)\n",
    "        \t\t\t\n",
    "        if len(visited) == len(rooms):\n",
    "        \treturn True\n",
    "        return False"
   ]
  },
  {
   "cell_type": "code",
   "execution_count": 3,
   "metadata": {
    "collapsed": false
   },
   "outputs": [
    {
     "name": "stdout",
     "output_type": "stream",
     "text": [
      "0\n",
      "1\n",
      "2\n",
      "3\n"
     ]
    },
    {
     "data": {
      "text/plain": [
       "True"
      ]
     },
     "execution_count": 3,
     "metadata": {},
     "output_type": "execute_result"
    }
   ],
   "source": [
    "rooms = [[1],[2],[3],[]]\n",
    "my_sol = Solution()\n",
    "my_sol.canVisitAllRooms(rooms)\n",
    "# TC = O(n)\n",
    "# SC = O(n)"
   ]
  },
  {
   "cell_type": "code",
   "execution_count": null,
   "metadata": {
    "collapsed": true
   },
   "outputs": [],
   "source": []
  }
 ],
 "metadata": {
  "kernelspec": {
   "display_name": "Python 2",
   "language": "python",
   "name": "python2"
  },
  "language_info": {
   "codemirror_mode": {
    "name": "ipython",
    "version": 2
   },
   "file_extension": ".py",
   "mimetype": "text/x-python",
   "name": "python",
   "nbconvert_exporter": "python",
   "pygments_lexer": "ipython2",
   "version": "2.7.13"
  }
 },
 "nbformat": 4,
 "nbformat_minor": 2
}
