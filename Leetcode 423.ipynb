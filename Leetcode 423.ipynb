{
 "cells": [
  {
   "cell_type": "markdown",
   "metadata": {},
   "source": [
    "Given a non-empty string containing an out-of-order English representation of digits 0-9, output the digits in ascending order.\n",
    "\n",
    "__Note:__\n",
    "\n",
    "1. Input contains only lowercase English letters.\n",
    "2. Input is guaranteed to be valid and can be transformed to its original digits. That means invalid inputs such as \"abc\" or \"zerone\" are not permitted.\n",
    "3. Input length is less than 50,000.\n",
    "\n",
    "__Example 1:__"
   ]
  },
  {
   "cell_type": "code",
   "execution_count": null,
   "metadata": {
    "collapsed": true
   },
   "outputs": [],
   "source": [
    "Input: \"owoztneoer\"\n",
    "\n",
    "Output: \"012\""
   ]
  },
  {
   "cell_type": "markdown",
   "metadata": {},
   "source": [
    "__Example 2:__"
   ]
  },
  {
   "cell_type": "code",
   "execution_count": null,
   "metadata": {
    "collapsed": true
   },
   "outputs": [],
   "source": [
    "Input: \"fviefuro\"\n",
    "\n",
    "Output: \"45\""
   ]
  },
  {
   "cell_type": "markdown",
   "metadata": {},
   "source": [
    "thinking:\n",
    "\n",
    "0: zero\n",
    "\n",
    "1: one\n",
    "\n",
    "2: two\n",
    "\n",
    "3: three\n",
    "\n",
    "4: four\n",
    "\n",
    "5: five\n",
    "\n",
    "6: six\n",
    "\n",
    "7: seven\n",
    "\n",
    "8: eight\n",
    "\n",
    "9: nine\n"
   ]
  },
  {
   "cell_type": "code",
   "execution_count": 2,
   "metadata": {
    "collapsed": false
   },
   "outputs": [
    {
     "name": "stdout",
     "output_type": "stream",
     "text": [
      "Counter({'e': 9, 'i': 4, 'o': 4, 'n': 4, 'r': 3, 't': 3, 'f': 2, 'h': 2, 's': 2, 'v': 2, 'g': 1, 'u': 1, 'w': 1, 'x': 1, 'z': 1})\n"
     ]
    }
   ],
   "source": [
    "from collections import Counter\n",
    "s = 'zeroonetwothreefourfivesixseveneightnine'\n",
    "c = Counter(s)\n",
    "print c"
   ]
  },
  {
   "cell_type": "markdown",
   "metadata": {},
   "source": [
    "0 is the only one has z\n",
    "\n",
    "2 is the only one has w\n",
    "\n",
    "4 is the only one has u\n",
    "\n",
    "6 is the only one has x\n",
    "\n",
    "8 is the only one has g\n",
    "\n",
    "what about the others?\n",
    "1,3,5,7,9\n",
    "1: one \"o\" cut 0, 2, 4\n",
    "3: three \"h\" cut 8\n",
    "5: five \"f\" cut 4\n",
    "7: seven \"v\" cut 5 or \"s\" cut 6\n",
    "9: nine \"i\" cut 5, 6, 8 or n (cut 1, 7)/2"
   ]
  },
  {
   "cell_type": "code",
   "execution_count": 1,
   "metadata": {
    "collapsed": true
   },
   "outputs": [],
   "source": [
    "class Solution(object):\n",
    "    def originalDigits(self, s):\n",
    "        \"\"\"\n",
    "        :type s: str\n",
    "        :rtype: str\n",
    "        \"\"\"\n",
    "        count = [0] * 10\n",
    "        count[0] = s.count('z') # zero\n",
    "        count[2] = s.count('w') # two\n",
    "        count[4] = s.count('u') # four\n",
    "        count[6] = s.count('x') # siz\n",
    "        count[8] = s.count('g') # eight\n",
    "\n",
    "        count[1] = s.count('o') - count[0] - count[2] - count[4] \n",
    "        # one don't count 0, 2, 4\n",
    "        count[3] = s.count('h') - count[8] \n",
    "        # three don't count 8 with h \n",
    "        count[5] = s.count('f') - count[4]\n",
    "        # five don't count 4 with f \n",
    "        count[7] = s.count('v') - count[5]\n",
    "        # seven don't count 6 with s\n",
    "        count[9] = s.count('i') - count[5] - count[6] - count[8]\n",
    "        # nine don't count 5, 6, 8\n",
    "        res = []\n",
    "        for i in range(10):\n",
    "            if count[i] > 0:\n",
    "                res.append(str(i)*count[i])\n",
    "                \n",
    "        return \"\".join(res)"
   ]
  },
  {
   "cell_type": "code",
   "execution_count": 3,
   "metadata": {
    "collapsed": true
   },
   "outputs": [],
   "source": [
    "class Solution(object):\n",
    "    def originalDigits(self, s):\n",
    "        \"\"\"\n",
    "        :type s: str\n",
    "        :rtype: str\n",
    "        \"\"\"\n",
    "        count = [0] * 10\n",
    "        count[0] = s.count('z') # zero\n",
    "        count[2] = s.count('w') # two\n",
    "        count[4] = s.count('u') # four\n",
    "        count[6] = s.count('x') # siz\n",
    "        count[8] = s.count('g') # eight\n",
    "\n",
    "        count[1] = s.count('o') - count[0] - count[2] - count[4] \n",
    "        # one don't count 0, 2, 4\n",
    "        count[3] = s.count('h') - count[8] \n",
    "        # three don't count 8 with h \n",
    "        count[5] = s.count('f') - count[4]\n",
    "        # five don't count 4 with f \n",
    "        count[7] = s.count('v') - count[5]\n",
    "        # seven don't count 6 with s\n",
    "        count[9] = (s.count('n') - count[1] - count[7]) / 2\n",
    "        # nine don't count 5, 6, 8\n",
    "        res = []\n",
    "        for i in range(10):\n",
    "            if count[i] > 0:\n",
    "                res.append(str(i)*count[i])\n",
    "                \n",
    "        return \"\".join(res)"
   ]
  },
  {
   "cell_type": "code",
   "execution_count": 4,
   "metadata": {
    "collapsed": true
   },
   "outputs": [],
   "source": [
    "# 97.17"
   ]
  },
  {
   "cell_type": "code",
   "execution_count": null,
   "metadata": {
    "collapsed": true
   },
   "outputs": [],
   "source": []
  }
 ],
 "metadata": {
  "kernelspec": {
   "display_name": "Python 2",
   "language": "python",
   "name": "python2"
  },
  "language_info": {
   "codemirror_mode": {
    "name": "ipython",
    "version": 2
   },
   "file_extension": ".py",
   "mimetype": "text/x-python",
   "name": "python",
   "nbconvert_exporter": "python",
   "pygments_lexer": "ipython2",
   "version": "2.7.13"
  }
 },
 "nbformat": 4,
 "nbformat_minor": 2
}
