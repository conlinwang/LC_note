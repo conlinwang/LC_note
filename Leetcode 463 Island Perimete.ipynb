{
 "cells": [
  {
   "cell_type": "markdown",
   "metadata": {},
   "source": [
    "## 463. Island Perimeter\n",
    "You are given a map in form of a two-dimensional integer grid where 1 represents land and 0 represents water. Grid cells are connected horizontally/vertically (not diagonally). The grid is completely surrounded by water, and there is exactly one island (i.e., one or more connected land cells). The island doesn't have \"lakes\" (water inside that isn't connected to the water around the island). One cell is a square with side length 1. The grid is rectangular, width and height don't exceed 100. Determine the perimeter of the island.\n",
    "\n",
    "__Example__:\n",
    "[[0,1,0,0],\n",
    " [1,1,1,0],\n",
    " [0,1,0,0],\n",
    " [1,1,0,0]]\n",
    "\n",
    "Answer: 16"
   ]
  },
  {
   "cell_type": "code",
   "execution_count": 2,
   "metadata": {
    "collapsed": false
   },
   "outputs": [
    {
     "name": "stdout",
     "output_type": "stream",
     "text": [
      "16\n"
     ]
    }
   ],
   "source": [
    "class Solution(object):\n",
    "    def islandPerimeter(self, grid):\n",
    "        \"\"\"\n",
    "        :type grid: List[List[int]]\n",
    "        :rtype: int\n",
    "        \"\"\"\n",
    "        permeter = 0\n",
    "        W = len(grid)\n",
    "        L = len(grid[0])\n",
    "        for i in range(0, W):\n",
    "        \tfor j in range(0, L):\n",
    "        \t\tif(grid[i][j] == 1):\n",
    "        \t\t\tif(i == 0 or grid[i-1][j] == 0):permeter += 1   # up\n",
    "        \t\t\tif(i == W-1 or grid[i+1][j] == 0):permeter += 1 # down\n",
    "        \t\t\tif(j == 0 or grid[i][j-1] == 0):permeter += 1   # left\n",
    "        \t\t\tif(j == L-1 or grid[i][j+1] == 0):permeter += 1 # right\n",
    "        return permeter\n",
    "\n",
    "\n",
    "my_Solution = Solution()\n",
    "A = [[0,1,0,0],\n",
    " [1,1,1,0],\n",
    " [0,1,0,0],\n",
    " [1,1,0,0]]\n",
    "print my_Solution.islandPerimeter(A)\n",
    "\n",
    "#73.4%\n"
   ]
  },
  {
   "cell_type": "code",
   "execution_count": null,
   "metadata": {
    "collapsed": true
   },
   "outputs": [],
   "source": []
  }
 ],
 "metadata": {
  "kernelspec": {
   "display_name": "Python 2",
   "language": "python",
   "name": "python2"
  },
  "language_info": {
   "codemirror_mode": {
    "name": "ipython",
    "version": 2
   },
   "file_extension": ".py",
   "mimetype": "text/x-python",
   "name": "python",
   "nbconvert_exporter": "python",
   "pygments_lexer": "ipython2",
   "version": "2.7.13"
  }
 },
 "nbformat": 4,
 "nbformat_minor": 2
}
