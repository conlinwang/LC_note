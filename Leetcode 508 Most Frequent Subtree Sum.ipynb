{
 "cells": [
  {
   "cell_type": "markdown",
   "metadata": {},
   "source": [
    "# Leetcode 508 Most Frequent Subtree Sum"
   ]
  },
  {
   "cell_type": "markdown",
   "metadata": {},
   "source": [
    "Given the root of a tree, you are asked to find the most frequent subtree sum. The subtree sum of a node is defined as the sum of all the node values formed by the subtree rooted at that node (including the node itself). So what is the most frequent subtree sum value? If there is a tie, return all the values with the highest frequency in any order.\n",
    "\n",
    "__Examples 1__\n",
    "Input:"
   ]
  },
  {
   "cell_type": "code",
   "execution_count": null,
   "metadata": {
    "collapsed": false
   },
   "outputs": [],
   "source": [
    "   5\n",
    " /  \\\n",
    "2   -3"
   ]
  },
  {
   "cell_type": "markdown",
   "metadata": {},
   "source": [
    "return [2, -3, 4], since all the values happen only once, return all of them in any order."
   ]
  },
  {
   "cell_type": "markdown",
   "metadata": {},
   "source": [
    "__Examples 2__\n",
    "Input:"
   ]
  },
  {
   "cell_type": "code",
   "execution_count": null,
   "metadata": {
    "collapsed": true
   },
   "outputs": [],
   "source": [
    "   5\n",
    " /  \\\n",
    "2   -5"
   ]
  },
  {
   "cell_type": "markdown",
   "metadata": {},
   "source": [
    "return [2], since 2 happens twice, however -5 only occur once."
   ]
  },
  {
   "cell_type": "code",
   "execution_count": 3,
   "metadata": {
    "collapsed": false
   },
   "outputs": [],
   "source": [
    "# Definition for a binary tree node.\n",
    "# class TreeNode(object):\n",
    "#     def __init__(self, x):\n",
    "#         self.val = x\n",
    "#         self.left = None\n",
    "#         self.right = None\n",
    "\n",
    "class Solution(object):\n",
    "    def findFrequentTreeSum(self, root):\n",
    "        \"\"\"\n",
    "        :type root: TreeNode\n",
    "        :rtype: List[int]\n",
    "        \"\"\"\n",
    "        if root == None: \n",
    "            return []\n",
    "        def getSum(node):\n",
    "            if node == None:\n",
    "                return 0\n",
    "            s = node.val + getSum(node.left) + getSum(node.right)\n",
    "            c[s] += 1\n",
    "            return s\n",
    "            \n",
    "        c = collections.Counter()\n",
    "        getSum(root)\n",
    "        frequent = max(c.values())\n",
    "        ans = []\n",
    "        for s in c.keys():\n",
    "            if c[s] == frequent:\n",
    "                ans.append(s)\n",
    "        return ans\n",
    "        \n",
    "# 51.63%, 68.45%       "
   ]
  },
  {
   "cell_type": "code",
   "execution_count": null,
   "metadata": {
    "collapsed": true
   },
   "outputs": [],
   "source": [
    "return [s for s in c.keys() if c[s] == frequent]"
   ]
  }
 ],
 "metadata": {
  "kernelspec": {
   "display_name": "Python 2",
   "language": "python",
   "name": "python2"
  },
  "language_info": {
   "codemirror_mode": {
    "name": "ipython",
    "version": 2
   },
   "file_extension": ".py",
   "mimetype": "text/x-python",
   "name": "python",
   "nbconvert_exporter": "python",
   "pygments_lexer": "ipython2",
   "version": "2.7.13"
  }
 },
 "nbformat": 4,
 "nbformat_minor": 2
}
