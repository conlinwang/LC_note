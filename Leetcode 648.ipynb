{
 "cells": [
  {
   "cell_type": "markdown",
   "metadata": {},
   "source": [
    "## 648. Replace Words"
   ]
  },
  {
   "cell_type": "markdown",
   "metadata": {},
   "source": [
    "In English, we have a concept called __root__, which can be followed by some other words to form another longer word - let's call this word __successor__. For example, the root __an__, followed by __other__, which can form another word __another__.\n",
    "\n",
    "Now, given a dictionary consisting of many roots and a sentence. You need to replace all the __successor__ in the sentence with the __root__ forming it. If a __successor__ has many __roots__ can form it, replace it with the root with the shortest length.\n",
    "\n",
    "You need to output the sentence after the replacement."
   ]
  },
  {
   "cell_type": "markdown",
   "metadata": {},
   "source": [
    "__Example 1:__"
   ]
  },
  {
   "cell_type": "code",
   "execution_count": null,
   "metadata": {
    "collapsed": true
   },
   "outputs": [],
   "source": [
    "Input: dict = [\"cat\", \"bat\", \"rat\"]\n",
    "sentence = \"the cattle was rattled by the battery\"\n",
    "Output: \"the cat was rat by the bat\""
   ]
  },
  {
   "cell_type": "code",
   "execution_count": 1,
   "metadata": {
    "collapsed": false
   },
   "outputs": [
    {
     "name": "stdout",
     "output_type": "stream",
     "text": [
      "the cat was rat by the bat\n"
     ]
    }
   ],
   "source": [
    "import operator\n",
    "from collections import Counter\n",
    "\n",
    "class Solution(object):\n",
    "    def replaceWords( self, roots, sentence ):\n",
    "        rootset = set(roots) # avoid duplicated roots\n",
    "        sol = []\n",
    "        for i in sentence.split():\n",
    "        \thit = 0\n",
    "        \tfor j in xrange(1, len(i)+1):\n",
    "        \t\tif i[:j] in rootset:\n",
    "        \t\t\tsol.append(i[:j])\n",
    "        \t\t\thit = 1\n",
    "        \t\t\tbreak\n",
    "        \tif(hit == 0):\n",
    "        \t\tsol.append(i)\n",
    "\n",
    "        return \" \".join(sol)\n",
    "\n",
    "\n",
    "dict = [\"cat\", \"bat\", \"rat\"]\n",
    "sentence = \"the cattle was rattled by the battery\"\n",
    "\n",
    "my_Solution = Solution()\n",
    "print my_Solution.replaceWords(dict, sentence)\n",
    "#34.04%"
   ]
  },
  {
   "cell_type": "code",
   "execution_count": 3,
   "metadata": {
    "collapsed": false
   },
   "outputs": [
    {
     "name": "stdout",
     "output_type": "stream",
     "text": [
      "the cat was rat by the bat\n"
     ]
    }
   ],
   "source": [
    "import operator\n",
    "from collections import Counter\n",
    "\n",
    "class Solution(object):\n",
    "    def replaceWords( self, roots, sentence ):\n",
    "        rootset = set(roots) # avoid duplication\n",
    "\n",
    "        def replace( word ):\n",
    "            for i in xrange(1, len(word)):\n",
    "                if word[:i] in rootset:\n",
    "                    return word[:i] # replace when found, shortest!\n",
    "            return word # when can't find a matched.\n",
    "            \n",
    "        return \" \".join(map(replace, sentence.split()))\n",
    "\n",
    "dict = [\"cat\", \"bat\", \"rat\"]\n",
    "sentence = \"the cattle was rattled by the battery\"\n",
    "\n",
    "my_Solution = Solution()\n",
    "print my_Solution.replaceWords(dict, sentence)\n",
    "#23.58%"
   ]
  },
  {
   "cell_type": "markdown",
   "metadata": {
    "collapsed": true
   },
   "source": [
    "### [Python] build in functions: filter, map, reduce"
   ]
  },
  {
   "cell_type": "markdown",
   "metadata": {},
   "source": [
    "__filter()__"
   ]
  },
  {
   "cell_type": "code",
   "execution_count": null,
   "metadata": {
    "collapsed": true
   },
   "outputs": [],
   "source": [
    "Format: filter(function, sequence)\n",
    "\n",
    "以傳入的boolean function作為條件函式，iterate所有的sequence的元素並收集 function(元素) 為True的元素到一個List。"
   ]
  },
  {
   "cell_type": "code",
   "execution_count": 1,
   "metadata": {
    "collapsed": false
   },
   "outputs": [
    {
     "data": {
      "text/plain": [
       "[6, 7, 8, 9]"
      ]
     },
     "execution_count": 1,
     "metadata": {},
     "output_type": "execute_result"
    }
   ],
   "source": [
    "def fn(x):\n",
    "    return x if x > 5 else None\n",
    "a = [1, 2, 3, 4, 5, 6, 7, 8, 9]\n",
    "b = filter(fn, a)\n",
    "b"
   ]
  },
  {
   "cell_type": "markdown",
   "metadata": {},
   "source": [
    "__map()__"
   ]
  },
  {
   "cell_type": "code",
   "execution_count": null,
   "metadata": {
    "collapsed": true
   },
   "outputs": [],
   "source": [
    "Format: map(function, sequence)\n",
    "\n",
    "iterate所有的sequence的元素並將傳入的function作用於元素，最後以List作為回傳值。"
   ]
  },
  {
   "cell_type": "code",
   "execution_count": 2,
   "metadata": {
    "collapsed": false
   },
   "outputs": [
    {
     "data": {
      "text/plain": [
       "[2, 4, 6, 8, 10, 12, 14, 16, 18]"
      ]
     },
     "execution_count": 2,
     "metadata": {},
     "output_type": "execute_result"
    }
   ],
   "source": [
    "def fn(x):\n",
    "    return x*2\n",
    "c = map(fn , a)\n",
    "c"
   ]
  },
  {
   "cell_type": "markdown",
   "metadata": {},
   "source": [
    "__reduce()__"
   ]
  },
  {
   "cell_type": "code",
   "execution_count": null,
   "metadata": {
    "collapsed": true
   },
   "outputs": [],
   "source": [
    "Format: reduce(function, sequence)\n",
    "\n",
    "必須傳入一個binary function(具有兩個參數的函式)，最後僅會回傳單一值。\n",
    "\n",
    "reduce會依序先取出兩個元素，套入function作用後的回傳值再與List中的下一個元素一同作為參數，以此類推，直到List所有元素都被取完。"
   ]
  },
  {
   "cell_type": "code",
   "execution_count": 4,
   "metadata": {
    "collapsed": false
   },
   "outputs": [
    {
     "data": {
      "text/plain": [
       "45"
      ]
     },
     "execution_count": 4,
     "metadata": {},
     "output_type": "execute_result"
    }
   ],
   "source": [
    "def fn(x, y):\n",
    "    return x + y\n",
    "d = reduce(fn, a)\n",
    "d"
   ]
  },
  {
   "cell_type": "markdown",
   "metadata": {},
   "source": [
    "https://az787680.vo.msecnd.net/user/law1009/1307/20137915243578.png"
   ]
  },
  {
   "cell_type": "code",
   "execution_count": null,
   "metadata": {
    "collapsed": true
   },
   "outputs": [],
   "source": []
  }
 ],
 "metadata": {
  "kernelspec": {
   "display_name": "Python 2",
   "language": "python",
   "name": "python2"
  },
  "language_info": {
   "codemirror_mode": {
    "name": "ipython",
    "version": 2
   },
   "file_extension": ".py",
   "mimetype": "text/x-python",
   "name": "python",
   "nbconvert_exporter": "python",
   "pygments_lexer": "ipython2",
   "version": "2.7.13"
  }
 },
 "nbformat": 4,
 "nbformat_minor": 2
}
