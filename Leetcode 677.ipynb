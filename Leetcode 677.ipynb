{
 "cells": [
  {
   "cell_type": "code",
   "execution_count": 1,
   "metadata": {
    "collapsed": true
   },
   "outputs": [],
   "source": [
    "class TrieNode():\n",
    "    def __init__(self, count = 0):\n",
    "        self.count = count\n",
    "        self.children = {}\n",
    "                \n",
    "class MapSum(object):\n",
    "\n",
    "    def __init__(self):\n",
    "        \"\"\"\n",
    "        Initialize your data structure here.\n",
    "        \"\"\"\n",
    "        self.root = TrieNode()\n",
    "        self.keys = {}\n",
    "\n",
    "    def insert(self, key, val):\n",
    "        \"\"\"\n",
    "        :type key: str\n",
    "        :type val: int\n",
    "        :rtype: void\n",
    "        \"\"\"\n",
    "        #find the same and replace\n",
    "        curr = self.root\n",
    "        delta = val - self.keys.get(key, 0)\n",
    "        self.keys[key] = val\n",
    "        \n",
    "        curr = self.root\n",
    "        curr.count += delta\n",
    "        for char in key:\n",
    "            if char not in curr.children:\n",
    "                curr.children[char] = TrieNode()\n",
    "            curr = curr.children[char]\n",
    "            curr.count += delta\n",
    "        \n",
    "    def sum(self, prefix):\n",
    "        \"\"\"\n",
    "        :type prefix: str\n",
    "        :rtype: int\n",
    "        \"\"\"\n",
    "        #Find the matched prefix\n",
    "        curr = self.root\n",
    "        for char in prefix:\n",
    "            if char not in curr.children:\n",
    "                return 0\n",
    "            curr = curr.children[char]\n",
    "        return curr.count\n",
    "    \n",
    "#29.21%    "
   ]
  },
  {
   "cell_type": "code",
   "execution_count": 2,
   "metadata": {
    "collapsed": false
   },
   "outputs": [
    {
     "name": "stdout",
     "output_type": "stream",
     "text": [
      "Value : 27\n",
      "Value : Never\n"
     ]
    }
   ],
   "source": [
    "#!/usr/bin/python\n",
    "# dict.get(key, default=None) , default if not found return default\n",
    "\n",
    "dict = {'Name': 'Zara', 'Age': 27}\n",
    "\n",
    "print \"Value : %s\" %  dict.get('Age')\n",
    "print \"Value : %s\" %  dict.get('Sex', \"Never\")"
   ]
  },
  {
   "cell_type": "code",
   "execution_count": null,
   "metadata": {
    "collapsed": true
   },
   "outputs": [],
   "source": []
  }
 ],
 "metadata": {
  "kernelspec": {
   "display_name": "Python 2",
   "language": "python",
   "name": "python2"
  },
  "language_info": {
   "codemirror_mode": {
    "name": "ipython",
    "version": 2
   },
   "file_extension": ".py",
   "mimetype": "text/x-python",
   "name": "python",
   "nbconvert_exporter": "python",
   "pygments_lexer": "ipython2",
   "version": "2.7.13"
  }
 },
 "nbformat": 4,
 "nbformat_minor": 2
}
